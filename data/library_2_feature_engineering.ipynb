{
 "cells": [
  {
   "cell_type": "markdown",
   "metadata": {},
   "source": [
    "#working notebook and notes for feature engineering\n",
    "#url: https://github.com/malfaroe/feature-engineering-and-feature-selection.git\n",
    "#About the feature engineering concept: https://medium.com/mindorks/what-is-feature-engineering-for-machine-learning-d8ba3158d97a"
   ]
  },
  {
   "cell_type": "markdown",
   "metadata": {},
   "source": [
    "#definiton: Feature engineering is the process of transforming raw data into features that better represent the underlying problem to the predictive models, \n",
    "resulting in improved model accuracy on unseen data. Feature engineering turn your inputs\n",
    "into things the algorithm can understand."
   ]
  },
  {
   "cell_type": "markdown",
   "metadata": {},
   "source": [
    "PART 1: DATA EXPLORATION"
   ]
  },
  {
   "cell_type": "code",
   "execution_count": 4,
   "metadata": {},
   "outputs": [],
   "source": [
    "#importing libraries...\n",
    "import warnings\n",
    "warnings.filterwarnings('ignore')\n",
    "\n",
    "import pandas as pd \n",
    "import numpy as np \n",
    "import matplotlib.pyplot as plt \n",
    "import seaborn as sns\n",
    "\n",
    "import os\n",
    "\n",
    "plt.style.use(\"seaborn-colorblind\")\n",
    "%matplotlib inline\n",
    "\n"
   ]
  },
  {
   "cell_type": "code",
   "execution_count": 5,
   "metadata": {},
   "outputs": [],
   "source": [
    "#reading the dataset titanic.csv\n",
    "use_cols = ['Pclass', 'Sex', 'Age', 'Fare', 'SibSp', 'Survived']\n",
    "data = pd.read_csv(\"titanic.csv\", usecols= use_cols, ) #usaremos usecols porque se quieren usar ciertas columnas del dataset"
   ]
  },
  {
   "cell_type": "code",
   "execution_count": 6,
   "metadata": {
    "scrolled": true
   },
   "outputs": [
    {
     "data": {
      "text/html": [
       "<div>\n",
       "<style scoped>\n",
       "    .dataframe tbody tr th:only-of-type {\n",
       "        vertical-align: middle;\n",
       "    }\n",
       "\n",
       "    .dataframe tbody tr th {\n",
       "        vertical-align: top;\n",
       "    }\n",
       "\n",
       "    .dataframe thead th {\n",
       "        text-align: right;\n",
       "    }\n",
       "</style>\n",
       "<table border=\"1\" class=\"dataframe\">\n",
       "  <thead>\n",
       "    <tr style=\"text-align: right;\">\n",
       "      <th></th>\n",
       "      <th>Survived</th>\n",
       "      <th>Pclass</th>\n",
       "      <th>Sex</th>\n",
       "      <th>Age</th>\n",
       "      <th>SibSp</th>\n",
       "      <th>Fare</th>\n",
       "    </tr>\n",
       "  </thead>\n",
       "  <tbody>\n",
       "    <tr>\n",
       "      <td>0</td>\n",
       "      <td>0</td>\n",
       "      <td>3</td>\n",
       "      <td>male</td>\n",
       "      <td>22.0</td>\n",
       "      <td>1</td>\n",
       "      <td>7.2500</td>\n",
       "    </tr>\n",
       "    <tr>\n",
       "      <td>1</td>\n",
       "      <td>1</td>\n",
       "      <td>1</td>\n",
       "      <td>female</td>\n",
       "      <td>38.0</td>\n",
       "      <td>1</td>\n",
       "      <td>71.2833</td>\n",
       "    </tr>\n",
       "    <tr>\n",
       "      <td>2</td>\n",
       "      <td>1</td>\n",
       "      <td>3</td>\n",
       "      <td>female</td>\n",
       "      <td>26.0</td>\n",
       "      <td>0</td>\n",
       "      <td>7.9250</td>\n",
       "    </tr>\n",
       "    <tr>\n",
       "      <td>3</td>\n",
       "      <td>1</td>\n",
       "      <td>1</td>\n",
       "      <td>female</td>\n",
       "      <td>35.0</td>\n",
       "      <td>1</td>\n",
       "      <td>53.1000</td>\n",
       "    </tr>\n",
       "    <tr>\n",
       "      <td>4</td>\n",
       "      <td>0</td>\n",
       "      <td>3</td>\n",
       "      <td>male</td>\n",
       "      <td>35.0</td>\n",
       "      <td>0</td>\n",
       "      <td>8.0500</td>\n",
       "    </tr>\n",
       "  </tbody>\n",
       "</table>\n",
       "</div>"
      ],
      "text/plain": [
       "   Survived  Pclass     Sex   Age  SibSp     Fare\n",
       "0         0       3    male  22.0      1   7.2500\n",
       "1         1       1  female  38.0      1  71.2833\n",
       "2         1       3  female  26.0      0   7.9250\n",
       "3         1       1  female  35.0      1  53.1000\n",
       "4         0       3    male  35.0      0   8.0500"
      ]
     },
     "execution_count": 6,
     "metadata": {},
     "output_type": "execute_result"
    }
   ],
   "source": [
    "data.head()"
   ]
  },
  {
   "cell_type": "code",
   "execution_count": 7,
   "metadata": {},
   "outputs": [
    {
     "name": "stdout",
     "output_type": "stream",
     "text": [
      "<class 'pandas.core.frame.DataFrame'>\n",
      "RangeIndex: 891 entries, 0 to 890\n",
      "Data columns (total 6 columns):\n",
      "Survived    891 non-null int64\n",
      "Pclass      891 non-null int64\n",
      "Sex         891 non-null object\n",
      "Age         714 non-null float64\n",
      "SibSp       891 non-null int64\n",
      "Fare        891 non-null float64\n",
      "dtypes: float64(2), int64(3), object(1)\n",
      "memory usage: 41.9+ KB\n"
     ]
    }
   ],
   "source": [
    "#get dtypes for each column\n",
    "data.info()"
   ]
  },
  {
   "cell_type": "code",
   "execution_count": null,
   "metadata": {},
   "outputs": [],
   "source": []
  },
  {
   "cell_type": "raw",
   "metadata": {},
   "source": [
    "#analisis de los tipos de variable\n",
    "- Survived: variable discreta binaria (0,1) y es el target\n",
    "- PClass:  variable discreta que clasifica la clase del pasaje\n",
    "- SibsP: Number of Siblings/Spouses Aboard\n"
   ]
  },
  {
   "cell_type": "code",
   "execution_count": 8,
   "metadata": {},
   "outputs": [
    {
     "data": {
      "text/html": [
       "<div>\n",
       "<style scoped>\n",
       "    .dataframe tbody tr th:only-of-type {\n",
       "        vertical-align: middle;\n",
       "    }\n",
       "\n",
       "    .dataframe tbody tr th {\n",
       "        vertical-align: top;\n",
       "    }\n",
       "\n",
       "    .dataframe thead th {\n",
       "        text-align: right;\n",
       "    }\n",
       "</style>\n",
       "<table border=\"1\" class=\"dataframe\">\n",
       "  <thead>\n",
       "    <tr style=\"text-align: right;\">\n",
       "      <th></th>\n",
       "      <th>Survived</th>\n",
       "      <th>Pclass</th>\n",
       "      <th>Age</th>\n",
       "      <th>SibSp</th>\n",
       "      <th>Fare</th>\n",
       "    </tr>\n",
       "  </thead>\n",
       "  <tbody>\n",
       "    <tr>\n",
       "      <td>count</td>\n",
       "      <td>891.000000</td>\n",
       "      <td>891.000000</td>\n",
       "      <td>714.000000</td>\n",
       "      <td>891.000000</td>\n",
       "      <td>891.000000</td>\n",
       "    </tr>\n",
       "    <tr>\n",
       "      <td>mean</td>\n",
       "      <td>0.383838</td>\n",
       "      <td>2.308642</td>\n",
       "      <td>29.699118</td>\n",
       "      <td>0.523008</td>\n",
       "      <td>32.204208</td>\n",
       "    </tr>\n",
       "    <tr>\n",
       "      <td>std</td>\n",
       "      <td>0.486592</td>\n",
       "      <td>0.836071</td>\n",
       "      <td>14.526497</td>\n",
       "      <td>1.102743</td>\n",
       "      <td>49.693429</td>\n",
       "    </tr>\n",
       "    <tr>\n",
       "      <td>min</td>\n",
       "      <td>0.000000</td>\n",
       "      <td>1.000000</td>\n",
       "      <td>0.420000</td>\n",
       "      <td>0.000000</td>\n",
       "      <td>0.000000</td>\n",
       "    </tr>\n",
       "    <tr>\n",
       "      <td>25%</td>\n",
       "      <td>0.000000</td>\n",
       "      <td>2.000000</td>\n",
       "      <td>20.125000</td>\n",
       "      <td>0.000000</td>\n",
       "      <td>7.910400</td>\n",
       "    </tr>\n",
       "    <tr>\n",
       "      <td>50%</td>\n",
       "      <td>0.000000</td>\n",
       "      <td>3.000000</td>\n",
       "      <td>28.000000</td>\n",
       "      <td>0.000000</td>\n",
       "      <td>14.454200</td>\n",
       "    </tr>\n",
       "    <tr>\n",
       "      <td>75%</td>\n",
       "      <td>1.000000</td>\n",
       "      <td>3.000000</td>\n",
       "      <td>38.000000</td>\n",
       "      <td>1.000000</td>\n",
       "      <td>31.000000</td>\n",
       "    </tr>\n",
       "    <tr>\n",
       "      <td>max</td>\n",
       "      <td>1.000000</td>\n",
       "      <td>3.000000</td>\n",
       "      <td>80.000000</td>\n",
       "      <td>8.000000</td>\n",
       "      <td>512.329200</td>\n",
       "    </tr>\n",
       "  </tbody>\n",
       "</table>\n",
       "</div>"
      ],
      "text/plain": [
       "         Survived      Pclass         Age       SibSp        Fare\n",
       "count  891.000000  891.000000  714.000000  891.000000  891.000000\n",
       "mean     0.383838    2.308642   29.699118    0.523008   32.204208\n",
       "std      0.486592    0.836071   14.526497    1.102743   49.693429\n",
       "min      0.000000    1.000000    0.420000    0.000000    0.000000\n",
       "25%      0.000000    2.000000   20.125000    0.000000    7.910400\n",
       "50%      0.000000    3.000000   28.000000    0.000000   14.454200\n",
       "75%      1.000000    3.000000   38.000000    1.000000   31.000000\n",
       "max      1.000000    3.000000   80.000000    8.000000  512.329200"
      ]
     },
     "execution_count": 8,
     "metadata": {},
     "output_type": "execute_result"
    }
   ],
   "source": [
    "#general description...\n",
    "data.describe()"
   ]
  },
  {
   "cell_type": "markdown",
   "metadata": {},
   "source": [
    "#UNIVARIATE ANALYSIS: definition: we pick up one feature and based on that one feature we try to determine what the output is.\n",
    "In this case for example we could pick up Pclass and try to determine the Survived output\n"
   ]
  },
  {
   "cell_type": "code",
   "execution_count": 9,
   "metadata": {},
   "outputs": [
    {
     "data": {
      "text/plain": [
       "<matplotlib.axes._subplots.AxesSubplot at 0xb3bcb48>"
      ]
     },
     "execution_count": 9,
     "metadata": {},
     "output_type": "execute_result"
    },
    {
     "data": {
      "image/png": "[encoded data removed]",
      "text/plain": [
       "<Figure size 432x288 with 1 Axes>"
      ]
     },
     "metadata": {
      "needs_background": "light"
     },
     "output_type": "display_data"
    }
   ],
   "source": [
    "sns.barplot(x = \"Pclass\", y = \"Survived\", data = data) #indica la tendencia central (mean) de los datos\n",
    "#barplot plots the relationship between a categorical and a numerical variable\n",
    "#Several values per group? Don’t use a barplot. Even with error bars, it hides information and other type of graphic\n",
    "#like boxplot or violin are much more appropriate.\n",
    "#abajo: por cada clase cuanto fue el valor de sobrevivencia promedio"
   ]
  },
  {
   "cell_type": "code",
   "execution_count": 10,
   "metadata": {},
   "outputs": [
    {
     "data": {
      "text/plain": [
       "<matplotlib.axes._subplots.AxesSubplot at 0xb70aac8>"
      ]
     },
     "execution_count": 10,
     "metadata": {},
     "output_type": "execute_result"
    },
    {
     "data": {
      "image/png": "[encoded data removed]",
      "text/plain": [
       "<Figure size 432x288 with 1 Axes>"
      ]
     },
     "metadata": {
      "needs_background": "light"
     },
     "output_type": "display_data"
    }
   ],
   "source": [
    "sns.countplot(x = \"Pclass\", hue = \"Survived\", data = data)"
   ]
  },
  {
   "cell_type": "code",
   "execution_count": 11,
   "metadata": {},
   "outputs": [],
   "source": [
    "#countplot nos da un conteo de la frecuencia absoluta. En este caso sacamos el conteo de sobrev. por clase de pasaje"
   ]
  },
  {
   "cell_type": "code",
   "execution_count": 12,
   "metadata": {},
   "outputs": [
    {
     "data": {
      "text/plain": [
       "<matplotlib.axes._subplots.AxesSubplot at 0xb7a9d88>"
      ]
     },
     "execution_count": 12,
     "metadata": {},
     "output_type": "execute_result"
    },
    {
     "data": {
      "image/png": "[encoded data removed]",
      "text/plain": [
       "<Figure size 432x288 with 1 Axes>"
      ]
     },
     "metadata": {
      "needs_background": "light"
     },
     "output_type": "display_data"
    }
   ],
   "source": [
    "#discrete variable boxplot: podemos hacer un boxplot separando el comportamiento de una variable por tramos de otra\n",
    "#por ejemplo: comportamiento de fare segun la clase\n",
    "sns.boxplot(x = \"Pclass\", y = \"Fare\", data= data)"
   ]
  },
  {
   "cell_type": "code",
   "execution_count": 13,
   "metadata": {},
   "outputs": [],
   "source": [
    "#podemos ver los indicadores de tendencia central y dispersion segun la clase del pasaje, visualizando tambien outliers"
   ]
  },
  {
   "cell_type": "code",
   "execution_count": 14,
   "metadata": {},
   "outputs": [
    {
     "name": "stdout",
     "output_type": "stream",
     "text": [
      "<class 'pandas.core.frame.DataFrame'>\n",
      "RangeIndex: 891 entries, 0 to 890\n",
      "Data columns (total 6 columns):\n",
      "Survived    891 non-null int64\n",
      "Pclass      891 non-null int64\n",
      "Sex         891 non-null object\n",
      "Age         714 non-null float64\n",
      "SibSp       891 non-null int64\n",
      "Fare        891 non-null float64\n",
      "dtypes: float64(2), int64(3), object(1)\n",
      "memory usage: 41.9+ KB\n"
     ]
    }
   ],
   "source": [
    "#Analisis de distrbucion vbariables continuas: histograma\n",
    "data.info()"
   ]
  },
  {
   "cell_type": "code",
   "execution_count": 15,
   "metadata": {},
   "outputs": [
    {
     "data": {
      "text/plain": [
       "<matplotlib.axes._subplots.AxesSubplot at 0xb84a5c8>"
      ]
     },
     "execution_count": 15,
     "metadata": {},
     "output_type": "execute_result"
    },
    {
     "data": {
      "image/png": "[encoded data removed]",
      "text/plain": [
       "<Figure size 576x360 with 1 Axes>"
      ]
     },
     "metadata": {
      "needs_background": "light"
     },
     "output_type": "display_data"
    }
   ],
   "source": [
    "fig = plt.subplots(figsize = (8, 5))\n",
    "sns.distplot(a = data[\"Fare\"], bins= 40,kde = False )"
   ]
  },
  {
   "cell_type": "code",
   "execution_count": 16,
   "metadata": {},
   "outputs": [
    {
     "name": "stdout",
     "output_type": "stream",
     "text": [
      "<class 'pandas.core.frame.DataFrame'>\n",
      "RangeIndex: 891 entries, 0 to 890\n",
      "Data columns (total 6 columns):\n",
      "Survived    891 non-null int64\n",
      "Pclass      891 non-null int64\n",
      "Sex         891 non-null object\n",
      "Age         714 non-null float64\n",
      "SibSp       891 non-null int64\n",
      "Fare        891 non-null float64\n",
      "dtypes: float64(2), int64(3), object(1)\n",
      "memory usage: 41.9+ KB\n"
     ]
    }
   ],
   "source": [
    "data.info()"
   ]
  },
  {
   "cell_type": "markdown",
   "metadata": {},
   "source": [
    "#BIVARIATE ANALYSIS"
   ]
  },
  {
   "cell_type": "code",
   "execution_count": 17,
   "metadata": {},
   "outputs": [],
   "source": [
    "#definition: is the descriptive statistics between two variables---"
   ]
  },
  {
   "cell_type": "code",
   "execution_count": 18,
   "metadata": {},
   "outputs": [
    {
     "data": {
      "text/plain": [
       "<matplotlib.axes._subplots.AxesSubplot at 0xb91a948>"
      ]
     },
     "execution_count": 18,
     "metadata": {},
     "output_type": "execute_result"
    },
    {
     "data": {
      "image/png": "[encoded data removed]",
      "text/plain": [
       "<Figure size 432x288 with 1 Axes>"
      ]
     },
     "metadata": {
      "needs_background": "light"
     },
     "output_type": "display_data"
    }
   ],
   "source": [
    "#B1: Scatterplot\n",
    "sns.scatterplot(x= \"Sex\", y = \"Age\", hue = \"Survived\", data = data)"
   ]
  },
  {
   "cell_type": "code",
   "execution_count": 19,
   "metadata": {},
   "outputs": [
    {
     "data": {
      "text/plain": [
       "<matplotlib.axes._subplots.AxesSubplot at 0xb9a4948>"
      ]
     },
     "execution_count": 19,
     "metadata": {},
     "output_type": "execute_result"
    },
    {
     "data": {
      "image/png": "[encoded data removed]",
      "text/plain": [
       "<Figure size 432x288 with 1 Axes>"
      ]
     },
     "metadata": {
      "needs_background": "light"
     },
     "output_type": "display_data"
    }
   ],
   "source": [
    "sns.scatterplot(x = \"Pclass\", y = \"Fare\", hue = \"Survived\", data = data)"
   ]
  },
  {
   "cell_type": "code",
   "execution_count": 20,
   "metadata": {},
   "outputs": [
    {
     "data": {
      "text/plain": [
       "<matplotlib.axes._subplots.AxesSubplot at 0xb734548>"
      ]
     },
     "execution_count": 20,
     "metadata": {},
     "output_type": "execute_result"
    },
    {
     "data": {
      "image/png": "[encoded data removed]",
      "text/plain": [
       "<Figure size 432x288 with 1 Axes>"
      ]
     },
     "metadata": {
      "needs_background": "light"
     },
     "output_type": "display_data"
    }
   ],
   "source": [
    "#edades de niños por clase \n",
    "sns.scatterplot(x = \"Pclass\", y = \"Age\", hue = \"Survived\", data = data[data[\"Age\"] <13])"
   ]
  },
  {
   "cell_type": "code",
   "execution_count": 21,
   "metadata": {},
   "outputs": [
    {
     "name": "stdout",
     "output_type": "stream",
     "text": [
      "<class 'pandas.core.frame.DataFrame'>\n",
      "RangeIndex: 891 entries, 0 to 890\n",
      "Data columns (total 6 columns):\n",
      "Survived    891 non-null int64\n",
      "Pclass      891 non-null int64\n",
      "Sex         891 non-null object\n",
      "Age         714 non-null float64\n",
      "SibSp       891 non-null int64\n",
      "Fare        891 non-null float64\n",
      "dtypes: float64(2), int64(3), object(1)\n",
      "memory usage: 41.9+ KB\n"
     ]
    }
   ],
   "source": [
    "data.info()"
   ]
  },
  {
   "cell_type": "code",
   "execution_count": 22,
   "metadata": {},
   "outputs": [
    {
     "data": {
      "text/plain": [
       "<seaborn.axisgrid.FacetGrid at 0xbaaaf88>"
      ]
     },
     "execution_count": 22,
     "metadata": {},
     "output_type": "execute_result"
    },
    {
     "data": {
      "image/png": "[encoded data removed]",
      "text/plain": [
       "<Figure size 360x360 with 1 Axes>"
      ]
     },
     "metadata": {
      "needs_background": "light"
     },
     "output_type": "display_data"
    }
   ],
   "source": [
    "sns.lmplot(x = \"Age\", y = \"Fare\", data = data)"
   ]
  },
  {
   "cell_type": "code",
   "execution_count": 23,
   "metadata": {},
   "outputs": [
    {
     "data": {
      "text/html": [
       "<div>\n",
       "<style scoped>\n",
       "    .dataframe tbody tr th:only-of-type {\n",
       "        vertical-align: middle;\n",
       "    }\n",
       "\n",
       "    .dataframe tbody tr th {\n",
       "        vertical-align: top;\n",
       "    }\n",
       "\n",
       "    .dataframe thead th {\n",
       "        text-align: right;\n",
       "    }\n",
       "</style>\n",
       "<table border=\"1\" class=\"dataframe\">\n",
       "  <thead>\n",
       "    <tr style=\"text-align: right;\">\n",
       "      <th></th>\n",
       "      <th>Survived</th>\n",
       "      <th>Pclass</th>\n",
       "      <th>Age</th>\n",
       "      <th>SibSp</th>\n",
       "      <th>Fare</th>\n",
       "    </tr>\n",
       "  </thead>\n",
       "  <tbody>\n",
       "    <tr>\n",
       "      <td>Survived</td>\n",
       "      <td>1.000000</td>\n",
       "      <td>-0.338481</td>\n",
       "      <td>-0.077221</td>\n",
       "      <td>-0.035322</td>\n",
       "      <td>0.257307</td>\n",
       "    </tr>\n",
       "    <tr>\n",
       "      <td>Pclass</td>\n",
       "      <td>-0.338481</td>\n",
       "      <td>1.000000</td>\n",
       "      <td>-0.369226</td>\n",
       "      <td>0.083081</td>\n",
       "      <td>-0.549500</td>\n",
       "    </tr>\n",
       "    <tr>\n",
       "      <td>Age</td>\n",
       "      <td>-0.077221</td>\n",
       "      <td>-0.369226</td>\n",
       "      <td>1.000000</td>\n",
       "      <td>-0.308247</td>\n",
       "      <td>0.096067</td>\n",
       "    </tr>\n",
       "    <tr>\n",
       "      <td>SibSp</td>\n",
       "      <td>-0.035322</td>\n",
       "      <td>0.083081</td>\n",
       "      <td>-0.308247</td>\n",
       "      <td>1.000000</td>\n",
       "      <td>0.159651</td>\n",
       "    </tr>\n",
       "    <tr>\n",
       "      <td>Fare</td>\n",
       "      <td>0.257307</td>\n",
       "      <td>-0.549500</td>\n",
       "      <td>0.096067</td>\n",
       "      <td>0.159651</td>\n",
       "      <td>1.000000</td>\n",
       "    </tr>\n",
       "  </tbody>\n",
       "</table>\n",
       "</div>"
      ],
      "text/plain": [
       "          Survived    Pclass       Age     SibSp      Fare\n",
       "Survived  1.000000 -0.338481 -0.077221 -0.035322  0.257307\n",
       "Pclass   -0.338481  1.000000 -0.369226  0.083081 -0.549500\n",
       "Age      -0.077221 -0.369226  1.000000 -0.308247  0.096067\n",
       "SibSp    -0.035322  0.083081 -0.308247  1.000000  0.159651\n",
       "Fare      0.257307 -0.549500  0.096067  0.159651  1.000000"
      ]
     },
     "execution_count": 23,
     "metadata": {},
     "output_type": "execute_result"
    }
   ],
   "source": [
    "#B2: Correlation matrix...\n",
    "data.corr()"
   ]
  },
  {
   "cell_type": "code",
   "execution_count": 24,
   "metadata": {},
   "outputs": [],
   "source": [
    "#B3: Heatmap\n",
    "#usamos el dataset flights\n",
    "flights = sns.load_dataset(\"flights\") #loadas dataset from the online repository"
   ]
  },
  {
   "cell_type": "code",
   "execution_count": 25,
   "metadata": {},
   "outputs": [
    {
     "data": {
      "text/html": [
       "<div>\n",
       "<style scoped>\n",
       "    .dataframe tbody tr th:only-of-type {\n",
       "        vertical-align: middle;\n",
       "    }\n",
       "\n",
       "    .dataframe tbody tr th {\n",
       "        vertical-align: top;\n",
       "    }\n",
       "\n",
       "    .dataframe thead th {\n",
       "        text-align: right;\n",
       "    }\n",
       "</style>\n",
       "<table border=\"1\" class=\"dataframe\">\n",
       "  <thead>\n",
       "    <tr style=\"text-align: right;\">\n",
       "      <th></th>\n",
       "      <th>year</th>\n",
       "      <th>month</th>\n",
       "      <th>passengers</th>\n",
       "    </tr>\n",
       "  </thead>\n",
       "  <tbody>\n",
       "    <tr>\n",
       "      <td>0</td>\n",
       "      <td>1949</td>\n",
       "      <td>January</td>\n",
       "      <td>112</td>\n",
       "    </tr>\n",
       "    <tr>\n",
       "      <td>1</td>\n",
       "      <td>1949</td>\n",
       "      <td>February</td>\n",
       "      <td>118</td>\n",
       "    </tr>\n",
       "    <tr>\n",
       "      <td>2</td>\n",
       "      <td>1949</td>\n",
       "      <td>March</td>\n",
       "      <td>132</td>\n",
       "    </tr>\n",
       "    <tr>\n",
       "      <td>3</td>\n",
       "      <td>1949</td>\n",
       "      <td>April</td>\n",
       "      <td>129</td>\n",
       "    </tr>\n",
       "    <tr>\n",
       "      <td>4</td>\n",
       "      <td>1949</td>\n",
       "      <td>May</td>\n",
       "      <td>121</td>\n",
       "    </tr>\n",
       "  </tbody>\n",
       "</table>\n",
       "</div>"
      ],
      "text/plain": [
       "   year     month  passengers\n",
       "0  1949   January         112\n",
       "1  1949  February         118\n",
       "2  1949     March         132\n",
       "3  1949     April         129\n",
       "4  1949       May         121"
      ]
     },
     "execution_count": 25,
     "metadata": {},
     "output_type": "execute_result"
    }
   ],
   "source": [
    "flights.head()"
   ]
  },
  {
   "cell_type": "code",
   "execution_count": 26,
   "metadata": {},
   "outputs": [],
   "source": [
    "#creo una tabla mas interesante: numero de pasajeros por mes y año con pivot table..."
   ]
  },
  {
   "cell_type": "code",
   "execution_count": 27,
   "metadata": {},
   "outputs": [],
   "source": [
    "pivote = pd.pivot(data = flights, index= \"year\", columns= \"month\", values= \"passengers\")"
   ]
  },
  {
   "cell_type": "code",
   "execution_count": 28,
   "metadata": {},
   "outputs": [
    {
     "data": {
      "text/html": [
       "<div>\n",
       "<style scoped>\n",
       "    .dataframe tbody tr th:only-of-type {\n",
       "        vertical-align: middle;\n",
       "    }\n",
       "\n",
       "    .dataframe tbody tr th {\n",
       "        vertical-align: top;\n",
       "    }\n",
       "\n",
       "    .dataframe thead th {\n",
       "        text-align: right;\n",
       "    }\n",
       "</style>\n",
       "<table border=\"1\" class=\"dataframe\">\n",
       "  <thead>\n",
       "    <tr style=\"text-align: right;\">\n",
       "      <th>month</th>\n",
       "      <th>January</th>\n",
       "      <th>February</th>\n",
       "      <th>March</th>\n",
       "      <th>April</th>\n",
       "      <th>May</th>\n",
       "      <th>June</th>\n",
       "      <th>July</th>\n",
       "      <th>August</th>\n",
       "      <th>September</th>\n",
       "      <th>October</th>\n",
       "      <th>November</th>\n",
       "      <th>December</th>\n",
       "    </tr>\n",
       "    <tr>\n",
       "      <th>year</th>\n",
       "      <th></th>\n",
       "      <th></th>\n",
       "      <th></th>\n",
       "      <th></th>\n",
       "      <th></th>\n",
       "      <th></th>\n",
       "      <th></th>\n",
       "      <th></th>\n",
       "      <th></th>\n",
       "      <th></th>\n",
       "      <th></th>\n",
       "      <th></th>\n",
       "    </tr>\n",
       "  </thead>\n",
       "  <tbody>\n",
       "    <tr>\n",
       "      <td>1949</td>\n",
       "      <td>112</td>\n",
       "      <td>118</td>\n",
       "      <td>132</td>\n",
       "      <td>129</td>\n",
       "      <td>121</td>\n",
       "      <td>135</td>\n",
       "      <td>148</td>\n",
       "      <td>148</td>\n",
       "      <td>136</td>\n",
       "      <td>119</td>\n",
       "      <td>104</td>\n",
       "      <td>118</td>\n",
       "    </tr>\n",
       "    <tr>\n",
       "      <td>1950</td>\n",
       "      <td>115</td>\n",
       "      <td>126</td>\n",
       "      <td>141</td>\n",
       "      <td>135</td>\n",
       "      <td>125</td>\n",
       "      <td>149</td>\n",
       "      <td>170</td>\n",
       "      <td>170</td>\n",
       "      <td>158</td>\n",
       "      <td>133</td>\n",
       "      <td>114</td>\n",
       "      <td>140</td>\n",
       "    </tr>\n",
       "    <tr>\n",
       "      <td>1951</td>\n",
       "      <td>145</td>\n",
       "      <td>150</td>\n",
       "      <td>178</td>\n",
       "      <td>163</td>\n",
       "      <td>172</td>\n",
       "      <td>178</td>\n",
       "      <td>199</td>\n",
       "      <td>199</td>\n",
       "      <td>184</td>\n",
       "      <td>162</td>\n",
       "      <td>146</td>\n",
       "      <td>166</td>\n",
       "    </tr>\n",
       "    <tr>\n",
       "      <td>1952</td>\n",
       "      <td>171</td>\n",
       "      <td>180</td>\n",
       "      <td>193</td>\n",
       "      <td>181</td>\n",
       "      <td>183</td>\n",
       "      <td>218</td>\n",
       "      <td>230</td>\n",
       "      <td>242</td>\n",
       "      <td>209</td>\n",
       "      <td>191</td>\n",
       "      <td>172</td>\n",
       "      <td>194</td>\n",
       "    </tr>\n",
       "    <tr>\n",
       "      <td>1953</td>\n",
       "      <td>196</td>\n",
       "      <td>196</td>\n",
       "      <td>236</td>\n",
       "      <td>235</td>\n",
       "      <td>229</td>\n",
       "      <td>243</td>\n",
       "      <td>264</td>\n",
       "      <td>272</td>\n",
       "      <td>237</td>\n",
       "      <td>211</td>\n",
       "      <td>180</td>\n",
       "      <td>201</td>\n",
       "    </tr>\n",
       "  </tbody>\n",
       "</table>\n",
       "</div>"
      ],
      "text/plain": [
       "month  January  February  March  April  May  June  July  August  September  \\\n",
       "year                                                                         \n",
       "1949       112       118    132    129  121   135   148     148        136   \n",
       "1950       115       126    141    135  125   149   170     170        158   \n",
       "1951       145       150    178    163  172   178   199     199        184   \n",
       "1952       171       180    193    181  183   218   230     242        209   \n",
       "1953       196       196    236    235  229   243   264     272        237   \n",
       "\n",
       "month  October  November  December  \n",
       "year                                \n",
       "1949       119       104       118  \n",
       "1950       133       114       140  \n",
       "1951       162       146       166  \n",
       "1952       191       172       194  \n",
       "1953       211       180       201  "
      ]
     },
     "execution_count": 28,
     "metadata": {},
     "output_type": "execute_result"
    }
   ],
   "source": [
    "pivote.head()"
   ]
  },
  {
   "cell_type": "code",
   "execution_count": 29,
   "metadata": {},
   "outputs": [
    {
     "data": {
      "text/plain": [
       "<matplotlib.axes._subplots.AxesSubplot at 0xbba3a48>"
      ]
     },
     "execution_count": 29,
     "metadata": {},
     "output_type": "execute_result"
    },
    {
     "data": {
      "image/png": "[encoded data removed]",
      "text/plain": [
       "<Figure size 432x288 with 2 Axes>"
      ]
     },
     "metadata": {
      "needs_background": "light"
     },
     "output_type": "display_data"
    }
   ],
   "source": [
    "sns.heatmap(pivote)"
   ]
  },
  {
   "cell_type": "markdown",
   "metadata": {},
   "source": [
    "####2. FEATURE CLEANING###"
   ]
  },
  {
   "cell_type": "code",
   "execution_count": 30,
   "metadata": {},
   "outputs": [],
   "source": [
    "###2.1 Missing Values"
   ]
  },
  {
   "cell_type": "code",
   "execution_count": 31,
   "metadata": {},
   "outputs": [
    {
     "data": {
      "text/plain": [
       "Index(['Survived', 'Pclass', 'Sex', 'Age', 'SibSp', 'Fare'], dtype='object')"
      ]
     },
     "execution_count": 31,
     "metadata": {},
     "output_type": "execute_result"
    }
   ],
   "source": [
    "data.columns"
   ]
  },
  {
   "cell_type": "code",
   "execution_count": 32,
   "metadata": {},
   "outputs": [
    {
     "data": {
      "text/plain": [
       "Survived      0\n",
       "Pclass        0\n",
       "Sex           0\n",
       "Age         177\n",
       "SibSp         0\n",
       "Fare          0\n",
       "dtype: int64"
      ]
     },
     "execution_count": 32,
     "metadata": {},
     "output_type": "execute_result"
    }
   ],
   "source": [
    "#missing value checking...\n",
    "data.isnull().sum()"
   ]
  },
  {
   "cell_type": "code",
   "execution_count": 33,
   "metadata": {},
   "outputs": [],
   "source": [
    "#Método 1: listwise deletion (se borran los null)..."
   ]
  },
  {
   "cell_type": "code",
   "execution_count": 34,
   "metadata": {},
   "outputs": [],
   "source": [
    "data_listwise = data.dropna()"
   ]
  },
  {
   "cell_type": "code",
   "execution_count": 35,
   "metadata": {},
   "outputs": [
    {
     "data": {
      "text/plain": [
       "(714, 6)"
      ]
     },
     "execution_count": 35,
     "metadata": {},
     "output_type": "execute_result"
    }
   ],
   "source": [
    "data_listwise.shape"
   ]
  },
  {
   "cell_type": "code",
   "execution_count": 36,
   "metadata": {},
   "outputs": [],
   "source": [
    "#Metodo 2: Add another variable( column) to indicate if there is a NA"
   ]
  },
  {
   "cell_type": "code",
   "execution_count": 37,
   "metadata": {},
   "outputs": [],
   "source": [
    "from numpy import nan\n",
    "import math \n",
    "def new_col(col):\n",
    "    for i in range(len(data[\"Age\"])):\n",
    "        if np.isnan(data[\"Age\"][i]):\n",
    "            col[i] = 1\n",
    "        else:\n",
    "            col[i] = 0\n",
    "    return col \n",
    "            \n",
    "        "
   ]
  },
  {
   "cell_type": "code",
   "execution_count": 38,
   "metadata": {},
   "outputs": [],
   "source": [
    "data[\"Nan_check_age\"] = data[\"Age\"]\n",
    "data[\"Nan_check_age\"] = new_col(data[\"Nan_check_age\"])"
   ]
  },
  {
   "cell_type": "code",
   "execution_count": 39,
   "metadata": {},
   "outputs": [
    {
     "data": {
      "text/html": [
       "<div>\n",
       "<style scoped>\n",
       "    .dataframe tbody tr th:only-of-type {\n",
       "        vertical-align: middle;\n",
       "    }\n",
       "\n",
       "    .dataframe tbody tr th {\n",
       "        vertical-align: top;\n",
       "    }\n",
       "\n",
       "    .dataframe thead th {\n",
       "        text-align: right;\n",
       "    }\n",
       "</style>\n",
       "<table border=\"1\" class=\"dataframe\">\n",
       "  <thead>\n",
       "    <tr style=\"text-align: right;\">\n",
       "      <th></th>\n",
       "      <th>Survived</th>\n",
       "      <th>Pclass</th>\n",
       "      <th>Sex</th>\n",
       "      <th>Age</th>\n",
       "      <th>SibSp</th>\n",
       "      <th>Fare</th>\n",
       "      <th>Nan_check_age</th>\n",
       "    </tr>\n",
       "  </thead>\n",
       "  <tbody>\n",
       "    <tr>\n",
       "      <td>0</td>\n",
       "      <td>0</td>\n",
       "      <td>3</td>\n",
       "      <td>male</td>\n",
       "      <td>22.0</td>\n",
       "      <td>1</td>\n",
       "      <td>7.2500</td>\n",
       "      <td>0.0</td>\n",
       "    </tr>\n",
       "    <tr>\n",
       "      <td>1</td>\n",
       "      <td>1</td>\n",
       "      <td>1</td>\n",
       "      <td>female</td>\n",
       "      <td>38.0</td>\n",
       "      <td>1</td>\n",
       "      <td>71.2833</td>\n",
       "      <td>0.0</td>\n",
       "    </tr>\n",
       "    <tr>\n",
       "      <td>2</td>\n",
       "      <td>1</td>\n",
       "      <td>3</td>\n",
       "      <td>female</td>\n",
       "      <td>26.0</td>\n",
       "      <td>0</td>\n",
       "      <td>7.9250</td>\n",
       "      <td>0.0</td>\n",
       "    </tr>\n",
       "    <tr>\n",
       "      <td>3</td>\n",
       "      <td>1</td>\n",
       "      <td>1</td>\n",
       "      <td>female</td>\n",
       "      <td>35.0</td>\n",
       "      <td>1</td>\n",
       "      <td>53.1000</td>\n",
       "      <td>0.0</td>\n",
       "    </tr>\n",
       "    <tr>\n",
       "      <td>4</td>\n",
       "      <td>0</td>\n",
       "      <td>3</td>\n",
       "      <td>male</td>\n",
       "      <td>35.0</td>\n",
       "      <td>0</td>\n",
       "      <td>8.0500</td>\n",
       "      <td>0.0</td>\n",
       "    </tr>\n",
       "    <tr>\n",
       "      <td>5</td>\n",
       "      <td>0</td>\n",
       "      <td>3</td>\n",
       "      <td>male</td>\n",
       "      <td>NaN</td>\n",
       "      <td>0</td>\n",
       "      <td>8.4583</td>\n",
       "      <td>1.0</td>\n",
       "    </tr>\n",
       "    <tr>\n",
       "      <td>6</td>\n",
       "      <td>0</td>\n",
       "      <td>1</td>\n",
       "      <td>male</td>\n",
       "      <td>54.0</td>\n",
       "      <td>0</td>\n",
       "      <td>51.8625</td>\n",
       "      <td>0.0</td>\n",
       "    </tr>\n",
       "    <tr>\n",
       "      <td>7</td>\n",
       "      <td>0</td>\n",
       "      <td>3</td>\n",
       "      <td>male</td>\n",
       "      <td>2.0</td>\n",
       "      <td>3</td>\n",
       "      <td>21.0750</td>\n",
       "      <td>0.0</td>\n",
       "    </tr>\n",
       "    <tr>\n",
       "      <td>8</td>\n",
       "      <td>1</td>\n",
       "      <td>3</td>\n",
       "      <td>female</td>\n",
       "      <td>27.0</td>\n",
       "      <td>0</td>\n",
       "      <td>11.1333</td>\n",
       "      <td>0.0</td>\n",
       "    </tr>\n",
       "    <tr>\n",
       "      <td>9</td>\n",
       "      <td>1</td>\n",
       "      <td>2</td>\n",
       "      <td>female</td>\n",
       "      <td>14.0</td>\n",
       "      <td>1</td>\n",
       "      <td>30.0708</td>\n",
       "      <td>0.0</td>\n",
       "    </tr>\n",
       "  </tbody>\n",
       "</table>\n",
       "</div>"
      ],
      "text/plain": [
       "   Survived  Pclass     Sex   Age  SibSp     Fare  Nan_check_age\n",
       "0         0       3    male  22.0      1   7.2500            0.0\n",
       "1         1       1  female  38.0      1  71.2833            0.0\n",
       "2         1       3  female  26.0      0   7.9250            0.0\n",
       "3         1       1  female  35.0      1  53.1000            0.0\n",
       "4         0       3    male  35.0      0   8.0500            0.0\n",
       "5         0       3    male   NaN      0   8.4583            1.0\n",
       "6         0       1    male  54.0      0  51.8625            0.0\n",
       "7         0       3    male   2.0      3  21.0750            0.0\n",
       "8         1       3  female  27.0      0  11.1333            0.0\n",
       "9         1       2  female  14.0      1  30.0708            0.0"
      ]
     },
     "execution_count": 39,
     "metadata": {},
     "output_type": "execute_result"
    }
   ],
   "source": [
    "data.head(10)"
   ]
  },
  {
   "cell_type": "code",
   "execution_count": 40,
   "metadata": {},
   "outputs": [],
   "source": [
    "#Metodo 3: Fillna con arbitrary values\n",
    "data_2 = data.copy()\n",
    "data_2[\"Age\"].fillna(value = -999,inplace = True)"
   ]
  },
  {
   "cell_type": "code",
   "execution_count": 41,
   "metadata": {},
   "outputs": [
    {
     "data": {
      "text/html": [
       "<div>\n",
       "<style scoped>\n",
       "    .dataframe tbody tr th:only-of-type {\n",
       "        vertical-align: middle;\n",
       "    }\n",
       "\n",
       "    .dataframe tbody tr th {\n",
       "        vertical-align: top;\n",
       "    }\n",
       "\n",
       "    .dataframe thead th {\n",
       "        text-align: right;\n",
       "    }\n",
       "</style>\n",
       "<table border=\"1\" class=\"dataframe\">\n",
       "  <thead>\n",
       "    <tr style=\"text-align: right;\">\n",
       "      <th></th>\n",
       "      <th>Survived</th>\n",
       "      <th>Pclass</th>\n",
       "      <th>Sex</th>\n",
       "      <th>Age</th>\n",
       "      <th>SibSp</th>\n",
       "      <th>Fare</th>\n",
       "      <th>Nan_check_age</th>\n",
       "    </tr>\n",
       "  </thead>\n",
       "  <tbody>\n",
       "    <tr>\n",
       "      <td>0</td>\n",
       "      <td>0</td>\n",
       "      <td>3</td>\n",
       "      <td>male</td>\n",
       "      <td>22.0</td>\n",
       "      <td>1</td>\n",
       "      <td>7.2500</td>\n",
       "      <td>0.0</td>\n",
       "    </tr>\n",
       "    <tr>\n",
       "      <td>1</td>\n",
       "      <td>1</td>\n",
       "      <td>1</td>\n",
       "      <td>female</td>\n",
       "      <td>38.0</td>\n",
       "      <td>1</td>\n",
       "      <td>71.2833</td>\n",
       "      <td>0.0</td>\n",
       "    </tr>\n",
       "    <tr>\n",
       "      <td>2</td>\n",
       "      <td>1</td>\n",
       "      <td>3</td>\n",
       "      <td>female</td>\n",
       "      <td>26.0</td>\n",
       "      <td>0</td>\n",
       "      <td>7.9250</td>\n",
       "      <td>0.0</td>\n",
       "    </tr>\n",
       "    <tr>\n",
       "      <td>3</td>\n",
       "      <td>1</td>\n",
       "      <td>1</td>\n",
       "      <td>female</td>\n",
       "      <td>35.0</td>\n",
       "      <td>1</td>\n",
       "      <td>53.1000</td>\n",
       "      <td>0.0</td>\n",
       "    </tr>\n",
       "    <tr>\n",
       "      <td>4</td>\n",
       "      <td>0</td>\n",
       "      <td>3</td>\n",
       "      <td>male</td>\n",
       "      <td>35.0</td>\n",
       "      <td>0</td>\n",
       "      <td>8.0500</td>\n",
       "      <td>0.0</td>\n",
       "    </tr>\n",
       "  </tbody>\n",
       "</table>\n",
       "</div>"
      ],
      "text/plain": [
       "   Survived  Pclass     Sex   Age  SibSp     Fare  Nan_check_age\n",
       "0         0       3    male  22.0      1   7.2500            0.0\n",
       "1         1       1  female  38.0      1  71.2833            0.0\n",
       "2         1       3  female  26.0      0   7.9250            0.0\n",
       "3         1       1  female  35.0      1  53.1000            0.0\n",
       "4         0       3    male  35.0      0   8.0500            0.0"
      ]
     },
     "execution_count": 41,
     "metadata": {},
     "output_type": "execute_result"
    }
   ],
   "source": [
    "data_2.head()"
   ]
  },
  {
   "cell_type": "code",
   "execution_count": 42,
   "metadata": {},
   "outputs": [
    {
     "data": {
      "text/plain": [
       "Survived         0\n",
       "Pclass           0\n",
       "Sex              0\n",
       "Age              0\n",
       "SibSp            0\n",
       "Fare             0\n",
       "Nan_check_age    0\n",
       "dtype: int64"
      ]
     },
     "execution_count": 42,
     "metadata": {},
     "output_type": "execute_result"
    }
   ],
   "source": [
    "data_2.isnull().sum()"
   ]
  },
  {
   "cell_type": "code",
   "execution_count": 43,
   "metadata": {},
   "outputs": [],
   "source": [
    "#Metodo 4: Fillna con mean, median, mode"
   ]
  },
  {
   "cell_type": "code",
   "execution_count": 44,
   "metadata": {},
   "outputs": [
    {
     "name": "stdout",
     "output_type": "stream",
     "text": [
      "<class 'pandas.core.frame.DataFrame'>\n",
      "RangeIndex: 891 entries, 0 to 890\n",
      "Data columns (total 7 columns):\n",
      "Survived         891 non-null int64\n",
      "Pclass           891 non-null int64\n",
      "Sex              891 non-null object\n",
      "Age              714 non-null float64\n",
      "SibSp            891 non-null int64\n",
      "Fare             891 non-null float64\n",
      "Nan_check_age    891 non-null float64\n",
      "dtypes: float64(3), int64(3), object(1)\n",
      "memory usage: 48.9+ KB\n"
     ]
    }
   ],
   "source": [
    "data.info()"
   ]
  },
  {
   "cell_type": "code",
   "execution_count": 45,
   "metadata": {},
   "outputs": [
    {
     "data": {
      "text/plain": [
       "0     22.000000\n",
       "1     38.000000\n",
       "2     26.000000\n",
       "3     35.000000\n",
       "4     35.000000\n",
       "5     29.699118\n",
       "6     54.000000\n",
       "7      2.000000\n",
       "8     27.000000\n",
       "9     14.000000\n",
       "10     4.000000\n",
       "11    58.000000\n",
       "12    20.000000\n",
       "13    39.000000\n",
       "14    14.000000\n",
       "15    55.000000\n",
       "16     2.000000\n",
       "17    29.699118\n",
       "18    31.000000\n",
       "19    29.699118\n",
       "20    35.000000\n",
       "21    34.000000\n",
       "22    15.000000\n",
       "23    28.000000\n",
       "24     8.000000\n",
       "25    38.000000\n",
       "26    29.699118\n",
       "27    19.000000\n",
       "28    29.699118\n",
       "29    29.699118\n",
       "Name: Age, dtype: float64"
      ]
     },
     "execution_count": 45,
     "metadata": {},
     "output_type": "execute_result"
    }
   ],
   "source": [
    "#ojo que Age es objeto, asi que hay que convertirlo a float\n",
    "data_3 = data.copy()\n",
    "mean_3 = pd.to_numeric(data_3[\"Age\"], errors='coerce').mean() #se usa to_numeric para convertirlo a float\n",
    "data_3[\"Age\"].fillna(value = mean_3, inplace = True)\n",
    "data_3[\"Age\"].head(30)"
   ]
  },
  {
   "cell_type": "code",
   "execution_count": 46,
   "metadata": {},
   "outputs": [
    {
     "data": {
      "text/html": [
       "<div>\n",
       "<style scoped>\n",
       "    .dataframe tbody tr th:only-of-type {\n",
       "        vertical-align: middle;\n",
       "    }\n",
       "\n",
       "    .dataframe tbody tr th {\n",
       "        vertical-align: top;\n",
       "    }\n",
       "\n",
       "    .dataframe thead th {\n",
       "        text-align: right;\n",
       "    }\n",
       "</style>\n",
       "<table border=\"1\" class=\"dataframe\">\n",
       "  <thead>\n",
       "    <tr style=\"text-align: right;\">\n",
       "      <th></th>\n",
       "      <th>Survived</th>\n",
       "      <th>Pclass</th>\n",
       "      <th>Sex</th>\n",
       "      <th>Age</th>\n",
       "      <th>SibSp</th>\n",
       "      <th>Fare</th>\n",
       "      <th>Nan_check_age</th>\n",
       "    </tr>\n",
       "  </thead>\n",
       "  <tbody>\n",
       "    <tr>\n",
       "      <td>0</td>\n",
       "      <td>0</td>\n",
       "      <td>3</td>\n",
       "      <td>male</td>\n",
       "      <td>22.000000</td>\n",
       "      <td>1</td>\n",
       "      <td>7.2500</td>\n",
       "      <td>0.0</td>\n",
       "    </tr>\n",
       "    <tr>\n",
       "      <td>1</td>\n",
       "      <td>1</td>\n",
       "      <td>1</td>\n",
       "      <td>female</td>\n",
       "      <td>38.000000</td>\n",
       "      <td>1</td>\n",
       "      <td>71.2833</td>\n",
       "      <td>0.0</td>\n",
       "    </tr>\n",
       "    <tr>\n",
       "      <td>2</td>\n",
       "      <td>1</td>\n",
       "      <td>3</td>\n",
       "      <td>female</td>\n",
       "      <td>26.000000</td>\n",
       "      <td>0</td>\n",
       "      <td>7.9250</td>\n",
       "      <td>0.0</td>\n",
       "    </tr>\n",
       "    <tr>\n",
       "      <td>3</td>\n",
       "      <td>1</td>\n",
       "      <td>1</td>\n",
       "      <td>female</td>\n",
       "      <td>35.000000</td>\n",
       "      <td>1</td>\n",
       "      <td>53.1000</td>\n",
       "      <td>0.0</td>\n",
       "    </tr>\n",
       "    <tr>\n",
       "      <td>4</td>\n",
       "      <td>0</td>\n",
       "      <td>3</td>\n",
       "      <td>male</td>\n",
       "      <td>35.000000</td>\n",
       "      <td>0</td>\n",
       "      <td>8.0500</td>\n",
       "      <td>0.0</td>\n",
       "    </tr>\n",
       "    <tr>\n",
       "      <td>5</td>\n",
       "      <td>0</td>\n",
       "      <td>3</td>\n",
       "      <td>male</td>\n",
       "      <td>73.248081</td>\n",
       "      <td>0</td>\n",
       "      <td>8.4583</td>\n",
       "      <td>1.0</td>\n",
       "    </tr>\n",
       "    <tr>\n",
       "      <td>6</td>\n",
       "      <td>0</td>\n",
       "      <td>1</td>\n",
       "      <td>male</td>\n",
       "      <td>54.000000</td>\n",
       "      <td>0</td>\n",
       "      <td>51.8625</td>\n",
       "      <td>0.0</td>\n",
       "    </tr>\n",
       "    <tr>\n",
       "      <td>7</td>\n",
       "      <td>0</td>\n",
       "      <td>3</td>\n",
       "      <td>male</td>\n",
       "      <td>2.000000</td>\n",
       "      <td>3</td>\n",
       "      <td>21.0750</td>\n",
       "      <td>0.0</td>\n",
       "    </tr>\n",
       "    <tr>\n",
       "      <td>8</td>\n",
       "      <td>1</td>\n",
       "      <td>3</td>\n",
       "      <td>female</td>\n",
       "      <td>27.000000</td>\n",
       "      <td>0</td>\n",
       "      <td>11.1333</td>\n",
       "      <td>0.0</td>\n",
       "    </tr>\n",
       "    <tr>\n",
       "      <td>9</td>\n",
       "      <td>1</td>\n",
       "      <td>2</td>\n",
       "      <td>female</td>\n",
       "      <td>14.000000</td>\n",
       "      <td>1</td>\n",
       "      <td>30.0708</td>\n",
       "      <td>0.0</td>\n",
       "    </tr>\n",
       "  </tbody>\n",
       "</table>\n",
       "</div>"
      ],
      "text/plain": [
       "   Survived  Pclass     Sex        Age  SibSp     Fare  Nan_check_age\n",
       "0         0       3    male  22.000000      1   7.2500            0.0\n",
       "1         1       1  female  38.000000      1  71.2833            0.0\n",
       "2         1       3  female  26.000000      0   7.9250            0.0\n",
       "3         1       1  female  35.000000      1  53.1000            0.0\n",
       "4         0       3    male  35.000000      0   8.0500            0.0\n",
       "5         0       3    male  73.248081      0   8.4583            1.0\n",
       "6         0       1    male  54.000000      0  51.8625            0.0\n",
       "7         0       3    male   2.000000      3  21.0750            0.0\n",
       "8         1       3  female  27.000000      0  11.1333            0.0\n",
       "9         1       2  female  14.000000      1  30.0708            0.0"
      ]
     },
     "execution_count": 46,
     "metadata": {},
     "output_type": "execute_result"
    }
   ],
   "source": [
    "#Metodo 4: replacing the NA by values that are at the far end of the distribution of that \n",
    "#variable calculated by mean + 3*std\n",
    "data_4 = data.copy()\n",
    "value_age = np.mean(data_4[\"Age\"]) + 3 * np.std(data_4[\"Age\"])\n",
    "data_4[\"Age\"].fillna(value = value_age, inplace = True )\n",
    "data_4.head(10)\n",
    "\n"
   ]
  },
  {
   "cell_type": "code",
   "execution_count": 47,
   "metadata": {},
   "outputs": [],
   "source": [
    "#Metodo 5: Random imputation: replace the NaNs with values randomly picked from the available observations\n",
    "use_cols = ['Pclass', 'Sex', 'Age', 'Fare', 'SibSp', 'Survived']\n",
    "data = pd.read_csv(\"titanic.csv\", usecols= use_cols, )\n",
    "data_5 = data.copy()\n",
    "pick = list(data_5[\"Age\"].dropna())"
   ]
  },
  {
   "cell_type": "code",
   "execution_count": 48,
   "metadata": {},
   "outputs": [
    {
     "data": {
      "text/plain": [
       "[22.0, 38.0, 26.0, 35.0, 35.0, 54.0, 2.0, 27.0, 14.0, 4.0]"
      ]
     },
     "execution_count": 48,
     "metadata": {},
     "output_type": "execute_result"
    }
   ],
   "source": [
    "pick[:10]"
   ]
  },
  {
   "cell_type": "code",
   "execution_count": 49,
   "metadata": {},
   "outputs": [
    {
     "data": {
      "text/plain": [
       "Survived      0\n",
       "Pclass        0\n",
       "Sex           0\n",
       "Age         177\n",
       "SibSp         0\n",
       "Fare          0\n",
       "dtype: int64"
      ]
     },
     "execution_count": 49,
     "metadata": {},
     "output_type": "execute_result"
    }
   ],
   "source": [
    "data.isnull().sum() \n",
    " "
   ]
  },
  {
   "cell_type": "code",
   "execution_count": 50,
   "metadata": {},
   "outputs": [],
   "source": [
    "data_5 = data.copy()"
   ]
  },
  {
   "cell_type": "code",
   "execution_count": 51,
   "metadata": {},
   "outputs": [
    {
     "data": {
      "text/plain": [
       "Survived      0\n",
       "Pclass        0\n",
       "Sex           0\n",
       "Age         177\n",
       "SibSp         0\n",
       "Fare          0\n",
       "dtype: int64"
      ]
     },
     "execution_count": 51,
     "metadata": {},
     "output_type": "execute_result"
    }
   ],
   "source": [
    "data_5.isnull().sum()"
   ]
  },
  {
   "cell_type": "code",
   "execution_count": 52,
   "metadata": {},
   "outputs": [],
   "source": [
    "data_5.fillna(value = \"np.random(pick)\", inplace = True)"
   ]
  },
  {
   "cell_type": "code",
   "execution_count": 53,
   "metadata": {},
   "outputs": [
    {
     "data": {
      "text/plain": [
       "Survived    0\n",
       "Pclass      0\n",
       "Sex         0\n",
       "Age         0\n",
       "SibSp       0\n",
       "Fare        0\n",
       "dtype: int64"
      ]
     },
     "execution_count": 53,
     "metadata": {},
     "output_type": "execute_result"
    }
   ],
   "source": [
    "data_5. isnull().sum()\n"
   ]
  },
  {
   "cell_type": "code",
   "execution_count": 54,
   "metadata": {},
   "outputs": [],
   "source": [
    "#2.2 Outliers!"
   ]
  },
  {
   "cell_type": "code",
   "execution_count": 55,
   "metadata": {},
   "outputs": [],
   "source": [
    "#2.1 Outlier detection techniques...\n"
   ]
  },
  {
   "cell_type": "code",
   "execution_count": 56,
   "metadata": {},
   "outputs": [],
   "source": [
    "# para trabajar nos quedamos con el dataset que reemplazo los NaN con mean()"
   ]
  },
  {
   "cell_type": "code",
   "execution_count": 57,
   "metadata": {},
   "outputs": [],
   "source": [
    "data = data_3.copy()"
   ]
  },
  {
   "cell_type": "code",
   "execution_count": 58,
   "metadata": {},
   "outputs": [
    {
     "data": {
      "text/html": [
       "<div>\n",
       "<style scoped>\n",
       "    .dataframe tbody tr th:only-of-type {\n",
       "        vertical-align: middle;\n",
       "    }\n",
       "\n",
       "    .dataframe tbody tr th {\n",
       "        vertical-align: top;\n",
       "    }\n",
       "\n",
       "    .dataframe thead th {\n",
       "        text-align: right;\n",
       "    }\n",
       "</style>\n",
       "<table border=\"1\" class=\"dataframe\">\n",
       "  <thead>\n",
       "    <tr style=\"text-align: right;\">\n",
       "      <th></th>\n",
       "      <th>Survived</th>\n",
       "      <th>Pclass</th>\n",
       "      <th>Age</th>\n",
       "      <th>SibSp</th>\n",
       "      <th>Fare</th>\n",
       "      <th>Nan_check_age</th>\n",
       "    </tr>\n",
       "  </thead>\n",
       "  <tbody>\n",
       "    <tr>\n",
       "      <td>count</td>\n",
       "      <td>891.000000</td>\n",
       "      <td>891.000000</td>\n",
       "      <td>891.000000</td>\n",
       "      <td>891.000000</td>\n",
       "      <td>891.000000</td>\n",
       "      <td>891.000000</td>\n",
       "    </tr>\n",
       "    <tr>\n",
       "      <td>mean</td>\n",
       "      <td>0.383838</td>\n",
       "      <td>2.308642</td>\n",
       "      <td>29.699118</td>\n",
       "      <td>0.523008</td>\n",
       "      <td>32.204208</td>\n",
       "      <td>0.198653</td>\n",
       "    </tr>\n",
       "    <tr>\n",
       "      <td>std</td>\n",
       "      <td>0.486592</td>\n",
       "      <td>0.836071</td>\n",
       "      <td>13.002015</td>\n",
       "      <td>1.102743</td>\n",
       "      <td>49.693429</td>\n",
       "      <td>0.399210</td>\n",
       "    </tr>\n",
       "    <tr>\n",
       "      <td>min</td>\n",
       "      <td>0.000000</td>\n",
       "      <td>1.000000</td>\n",
       "      <td>0.420000</td>\n",
       "      <td>0.000000</td>\n",
       "      <td>0.000000</td>\n",
       "      <td>0.000000</td>\n",
       "    </tr>\n",
       "    <tr>\n",
       "      <td>25%</td>\n",
       "      <td>0.000000</td>\n",
       "      <td>2.000000</td>\n",
       "      <td>22.000000</td>\n",
       "      <td>0.000000</td>\n",
       "      <td>7.910400</td>\n",
       "      <td>0.000000</td>\n",
       "    </tr>\n",
       "    <tr>\n",
       "      <td>50%</td>\n",
       "      <td>0.000000</td>\n",
       "      <td>3.000000</td>\n",
       "      <td>29.699118</td>\n",
       "      <td>0.000000</td>\n",
       "      <td>14.454200</td>\n",
       "      <td>0.000000</td>\n",
       "    </tr>\n",
       "    <tr>\n",
       "      <td>75%</td>\n",
       "      <td>1.000000</td>\n",
       "      <td>3.000000</td>\n",
       "      <td>35.000000</td>\n",
       "      <td>1.000000</td>\n",
       "      <td>31.000000</td>\n",
       "      <td>0.000000</td>\n",
       "    </tr>\n",
       "    <tr>\n",
       "      <td>max</td>\n",
       "      <td>1.000000</td>\n",
       "      <td>3.000000</td>\n",
       "      <td>80.000000</td>\n",
       "      <td>8.000000</td>\n",
       "      <td>512.329200</td>\n",
       "      <td>1.000000</td>\n",
       "    </tr>\n",
       "  </tbody>\n",
       "</table>\n",
       "</div>"
      ],
      "text/plain": [
       "         Survived      Pclass         Age       SibSp        Fare  \\\n",
       "count  891.000000  891.000000  891.000000  891.000000  891.000000   \n",
       "mean     0.383838    2.308642   29.699118    0.523008   32.204208   \n",
       "std      0.486592    0.836071   13.002015    1.102743   49.693429   \n",
       "min      0.000000    1.000000    0.420000    0.000000    0.000000   \n",
       "25%      0.000000    2.000000   22.000000    0.000000    7.910400   \n",
       "50%      0.000000    3.000000   29.699118    0.000000   14.454200   \n",
       "75%      1.000000    3.000000   35.000000    1.000000   31.000000   \n",
       "max      1.000000    3.000000   80.000000    8.000000  512.329200   \n",
       "\n",
       "       Nan_check_age  \n",
       "count     891.000000  \n",
       "mean        0.198653  \n",
       "std         0.399210  \n",
       "min         0.000000  \n",
       "25%         0.000000  \n",
       "50%         0.000000  \n",
       "75%         0.000000  \n",
       "max         1.000000  "
      ]
     },
     "execution_count": 58,
     "metadata": {},
     "output_type": "execute_result"
    }
   ],
   "source": [
    "data.describe()"
   ]
  },
  {
   "cell_type": "code",
   "execution_count": 59,
   "metadata": {},
   "outputs": [],
   "source": [
    "#de la naturaleza de las variables, solo cabe revisar Fare..."
   ]
  },
  {
   "cell_type": "code",
   "execution_count": 60,
   "metadata": {},
   "outputs": [
    {
     "data": {
      "text/plain": [
       "count    891.000000\n",
       "mean      32.204208\n",
       "std       49.693429\n",
       "min        0.000000\n",
       "25%        7.910400\n",
       "50%       14.454200\n",
       "75%       31.000000\n",
       "max      512.329200\n",
       "Name: Fare, dtype: float64"
      ]
     },
     "execution_count": 60,
     "metadata": {},
     "output_type": "execute_result"
    }
   ],
   "source": [
    "data[\"Fare\"].describe()"
   ]
  },
  {
   "cell_type": "code",
   "execution_count": 61,
   "metadata": {},
   "outputs": [
    {
     "data": {
      "text/plain": [
       "<matplotlib.axes._subplots.AxesSubplot at 0xc6ce888>"
      ]
     },
     "execution_count": 61,
     "metadata": {},
     "output_type": "execute_result"
    },
    {
     "data": {
      "image/png": "[encoded data removed]",
      "text/plain": [
       "<Figure size 864x576 with 1 Axes>"
      ]
     },
     "metadata": {
      "needs_background": "light"
     },
     "output_type": "display_data"
    }
   ],
   "source": [
    "ax, fig = plt.subplots(figsize = (12, 8), )\n",
    "sns.distplot(a = data[\"Fare\"], bins = 20, kde= False )"
   ]
  },
  {
   "cell_type": "code",
   "execution_count": 62,
   "metadata": {},
   "outputs": [
    {
     "data": {
      "text/html": [
       "<div>\n",
       "<style scoped>\n",
       "    .dataframe tbody tr th:only-of-type {\n",
       "        vertical-align: middle;\n",
       "    }\n",
       "\n",
       "    .dataframe tbody tr th {\n",
       "        vertical-align: top;\n",
       "    }\n",
       "\n",
       "    .dataframe thead th {\n",
       "        text-align: right;\n",
       "    }\n",
       "</style>\n",
       "<table border=\"1\" class=\"dataframe\">\n",
       "  <thead>\n",
       "    <tr style=\"text-align: right;\">\n",
       "      <th></th>\n",
       "      <th>Survived</th>\n",
       "      <th>Pclass</th>\n",
       "      <th>Sex</th>\n",
       "      <th>Age</th>\n",
       "      <th>SibSp</th>\n",
       "      <th>Fare</th>\n",
       "      <th>Nan_check_age</th>\n",
       "    </tr>\n",
       "  </thead>\n",
       "  <tbody>\n",
       "    <tr>\n",
       "      <td>708</td>\n",
       "      <td>1</td>\n",
       "      <td>1</td>\n",
       "      <td>female</td>\n",
       "      <td>22.000000</td>\n",
       "      <td>0</td>\n",
       "      <td>151.5500</td>\n",
       "      <td>0.0</td>\n",
       "    </tr>\n",
       "    <tr>\n",
       "      <td>498</td>\n",
       "      <td>0</td>\n",
       "      <td>1</td>\n",
       "      <td>female</td>\n",
       "      <td>25.000000</td>\n",
       "      <td>1</td>\n",
       "      <td>151.5500</td>\n",
       "      <td>0.0</td>\n",
       "    </tr>\n",
       "    <tr>\n",
       "      <td>297</td>\n",
       "      <td>0</td>\n",
       "      <td>1</td>\n",
       "      <td>female</td>\n",
       "      <td>2.000000</td>\n",
       "      <td>1</td>\n",
       "      <td>151.5500</td>\n",
       "      <td>0.0</td>\n",
       "    </tr>\n",
       "    <tr>\n",
       "      <td>305</td>\n",
       "      <td>1</td>\n",
       "      <td>1</td>\n",
       "      <td>male</td>\n",
       "      <td>0.920000</td>\n",
       "      <td>1</td>\n",
       "      <td>151.5500</td>\n",
       "      <td>0.0</td>\n",
       "    </tr>\n",
       "    <tr>\n",
       "      <td>332</td>\n",
       "      <td>0</td>\n",
       "      <td>1</td>\n",
       "      <td>male</td>\n",
       "      <td>38.000000</td>\n",
       "      <td>0</td>\n",
       "      <td>153.4625</td>\n",
       "      <td>0.0</td>\n",
       "    </tr>\n",
       "    <tr>\n",
       "      <td>609</td>\n",
       "      <td>1</td>\n",
       "      <td>1</td>\n",
       "      <td>female</td>\n",
       "      <td>40.000000</td>\n",
       "      <td>0</td>\n",
       "      <td>153.4625</td>\n",
       "      <td>0.0</td>\n",
       "    </tr>\n",
       "    <tr>\n",
       "      <td>268</td>\n",
       "      <td>1</td>\n",
       "      <td>1</td>\n",
       "      <td>female</td>\n",
       "      <td>58.000000</td>\n",
       "      <td>0</td>\n",
       "      <td>153.4625</td>\n",
       "      <td>0.0</td>\n",
       "    </tr>\n",
       "    <tr>\n",
       "      <td>318</td>\n",
       "      <td>1</td>\n",
       "      <td>1</td>\n",
       "      <td>female</td>\n",
       "      <td>31.000000</td>\n",
       "      <td>0</td>\n",
       "      <td>164.8667</td>\n",
       "      <td>0.0</td>\n",
       "    </tr>\n",
       "    <tr>\n",
       "      <td>856</td>\n",
       "      <td>1</td>\n",
       "      <td>1</td>\n",
       "      <td>female</td>\n",
       "      <td>45.000000</td>\n",
       "      <td>1</td>\n",
       "      <td>164.8667</td>\n",
       "      <td>0.0</td>\n",
       "    </tr>\n",
       "    <tr>\n",
       "      <td>689</td>\n",
       "      <td>1</td>\n",
       "      <td>1</td>\n",
       "      <td>female</td>\n",
       "      <td>15.000000</td>\n",
       "      <td>0</td>\n",
       "      <td>211.3375</td>\n",
       "      <td>0.0</td>\n",
       "    </tr>\n",
       "    <tr>\n",
       "      <td>779</td>\n",
       "      <td>1</td>\n",
       "      <td>1</td>\n",
       "      <td>female</td>\n",
       "      <td>43.000000</td>\n",
       "      <td>0</td>\n",
       "      <td>211.3375</td>\n",
       "      <td>0.0</td>\n",
       "    </tr>\n",
       "    <tr>\n",
       "      <td>730</td>\n",
       "      <td>1</td>\n",
       "      <td>1</td>\n",
       "      <td>female</td>\n",
       "      <td>29.000000</td>\n",
       "      <td>0</td>\n",
       "      <td>211.3375</td>\n",
       "      <td>0.0</td>\n",
       "    </tr>\n",
       "    <tr>\n",
       "      <td>377</td>\n",
       "      <td>0</td>\n",
       "      <td>1</td>\n",
       "      <td>male</td>\n",
       "      <td>27.000000</td>\n",
       "      <td>0</td>\n",
       "      <td>211.5000</td>\n",
       "      <td>0.0</td>\n",
       "    </tr>\n",
       "    <tr>\n",
       "      <td>527</td>\n",
       "      <td>0</td>\n",
       "      <td>1</td>\n",
       "      <td>male</td>\n",
       "      <td>29.699118</td>\n",
       "      <td>0</td>\n",
       "      <td>221.7792</td>\n",
       "      <td>1.0</td>\n",
       "    </tr>\n",
       "    <tr>\n",
       "      <td>716</td>\n",
       "      <td>1</td>\n",
       "      <td>1</td>\n",
       "      <td>female</td>\n",
       "      <td>38.000000</td>\n",
       "      <td>0</td>\n",
       "      <td>227.5250</td>\n",
       "      <td>0.0</td>\n",
       "    </tr>\n",
       "    <tr>\n",
       "      <td>380</td>\n",
       "      <td>1</td>\n",
       "      <td>1</td>\n",
       "      <td>female</td>\n",
       "      <td>42.000000</td>\n",
       "      <td>0</td>\n",
       "      <td>227.5250</td>\n",
       "      <td>0.0</td>\n",
       "    </tr>\n",
       "    <tr>\n",
       "      <td>557</td>\n",
       "      <td>0</td>\n",
       "      <td>1</td>\n",
       "      <td>male</td>\n",
       "      <td>29.699118</td>\n",
       "      <td>0</td>\n",
       "      <td>227.5250</td>\n",
       "      <td>1.0</td>\n",
       "    </tr>\n",
       "    <tr>\n",
       "      <td>700</td>\n",
       "      <td>1</td>\n",
       "      <td>1</td>\n",
       "      <td>female</td>\n",
       "      <td>18.000000</td>\n",
       "      <td>1</td>\n",
       "      <td>227.5250</td>\n",
       "      <td>0.0</td>\n",
       "    </tr>\n",
       "    <tr>\n",
       "      <td>299</td>\n",
       "      <td>1</td>\n",
       "      <td>1</td>\n",
       "      <td>female</td>\n",
       "      <td>50.000000</td>\n",
       "      <td>0</td>\n",
       "      <td>247.5208</td>\n",
       "      <td>0.0</td>\n",
       "    </tr>\n",
       "    <tr>\n",
       "      <td>118</td>\n",
       "      <td>0</td>\n",
       "      <td>1</td>\n",
       "      <td>male</td>\n",
       "      <td>24.000000</td>\n",
       "      <td>0</td>\n",
       "      <td>247.5208</td>\n",
       "      <td>0.0</td>\n",
       "    </tr>\n",
       "    <tr>\n",
       "      <td>742</td>\n",
       "      <td>1</td>\n",
       "      <td>1</td>\n",
       "      <td>female</td>\n",
       "      <td>21.000000</td>\n",
       "      <td>2</td>\n",
       "      <td>262.3750</td>\n",
       "      <td>0.0</td>\n",
       "    </tr>\n",
       "    <tr>\n",
       "      <td>311</td>\n",
       "      <td>1</td>\n",
       "      <td>1</td>\n",
       "      <td>female</td>\n",
       "      <td>18.000000</td>\n",
       "      <td>2</td>\n",
       "      <td>262.3750</td>\n",
       "      <td>0.0</td>\n",
       "    </tr>\n",
       "    <tr>\n",
       "      <td>27</td>\n",
       "      <td>0</td>\n",
       "      <td>1</td>\n",
       "      <td>male</td>\n",
       "      <td>19.000000</td>\n",
       "      <td>3</td>\n",
       "      <td>263.0000</td>\n",
       "      <td>0.0</td>\n",
       "    </tr>\n",
       "    <tr>\n",
       "      <td>341</td>\n",
       "      <td>1</td>\n",
       "      <td>1</td>\n",
       "      <td>female</td>\n",
       "      <td>24.000000</td>\n",
       "      <td>3</td>\n",
       "      <td>263.0000</td>\n",
       "      <td>0.0</td>\n",
       "    </tr>\n",
       "    <tr>\n",
       "      <td>88</td>\n",
       "      <td>1</td>\n",
       "      <td>1</td>\n",
       "      <td>female</td>\n",
       "      <td>23.000000</td>\n",
       "      <td>3</td>\n",
       "      <td>263.0000</td>\n",
       "      <td>0.0</td>\n",
       "    </tr>\n",
       "    <tr>\n",
       "      <td>438</td>\n",
       "      <td>0</td>\n",
       "      <td>1</td>\n",
       "      <td>male</td>\n",
       "      <td>64.000000</td>\n",
       "      <td>1</td>\n",
       "      <td>263.0000</td>\n",
       "      <td>0.0</td>\n",
       "    </tr>\n",
       "    <tr>\n",
       "      <td>258</td>\n",
       "      <td>1</td>\n",
       "      <td>1</td>\n",
       "      <td>female</td>\n",
       "      <td>35.000000</td>\n",
       "      <td>0</td>\n",
       "      <td>512.3292</td>\n",
       "      <td>0.0</td>\n",
       "    </tr>\n",
       "    <tr>\n",
       "      <td>737</td>\n",
       "      <td>1</td>\n",
       "      <td>1</td>\n",
       "      <td>male</td>\n",
       "      <td>35.000000</td>\n",
       "      <td>0</td>\n",
       "      <td>512.3292</td>\n",
       "      <td>0.0</td>\n",
       "    </tr>\n",
       "    <tr>\n",
       "      <td>679</td>\n",
       "      <td>1</td>\n",
       "      <td>1</td>\n",
       "      <td>male</td>\n",
       "      <td>36.000000</td>\n",
       "      <td>0</td>\n",
       "      <td>512.3292</td>\n",
       "      <td>0.0</td>\n",
       "    </tr>\n",
       "  </tbody>\n",
       "</table>\n",
       "</div>"
      ],
      "text/plain": [
       "     Survived  Pclass     Sex        Age  SibSp      Fare  Nan_check_age\n",
       "708         1       1  female  22.000000      0  151.5500            0.0\n",
       "498         0       1  female  25.000000      1  151.5500            0.0\n",
       "297         0       1  female   2.000000      1  151.5500            0.0\n",
       "305         1       1    male   0.920000      1  151.5500            0.0\n",
       "332         0       1    male  38.000000      0  153.4625            0.0\n",
       "609         1       1  female  40.000000      0  153.4625            0.0\n",
       "268         1       1  female  58.000000      0  153.4625            0.0\n",
       "318         1       1  female  31.000000      0  164.8667            0.0\n",
       "856         1       1  female  45.000000      1  164.8667            0.0\n",
       "689         1       1  female  15.000000      0  211.3375            0.0\n",
       "779         1       1  female  43.000000      0  211.3375            0.0\n",
       "730         1       1  female  29.000000      0  211.3375            0.0\n",
       "377         0       1    male  27.000000      0  211.5000            0.0\n",
       "527         0       1    male  29.699118      0  221.7792            1.0\n",
       "716         1       1  female  38.000000      0  227.5250            0.0\n",
       "380         1       1  female  42.000000      0  227.5250            0.0\n",
       "557         0       1    male  29.699118      0  227.5250            1.0\n",
       "700         1       1  female  18.000000      1  227.5250            0.0\n",
       "299         1       1  female  50.000000      0  247.5208            0.0\n",
       "118         0       1    male  24.000000      0  247.5208            0.0\n",
       "742         1       1  female  21.000000      2  262.3750            0.0\n",
       "311         1       1  female  18.000000      2  262.3750            0.0\n",
       "27          0       1    male  19.000000      3  263.0000            0.0\n",
       "341         1       1  female  24.000000      3  263.0000            0.0\n",
       "88          1       1  female  23.000000      3  263.0000            0.0\n",
       "438         0       1    male  64.000000      1  263.0000            0.0\n",
       "258         1       1  female  35.000000      0  512.3292            0.0\n",
       "737         1       1    male  35.000000      0  512.3292            0.0\n",
       "679         1       1    male  36.000000      0  512.3292            0.0"
      ]
     },
     "execution_count": 62,
     "metadata": {},
     "output_type": "execute_result"
    }
   ],
   "source": [
    "#tenemos valores que se arrancan del histpgrama por lejos\n",
    "#pero hay que ver a que pueden deberse...\n",
    "#Ej: max\n",
    "data[data[\"Fare\"] > 150].sort_values(by = \"Fare\", ascending = True )"
   ]
  },
  {
   "cell_type": "code",
   "execution_count": 63,
   "metadata": {},
   "outputs": [
    {
     "data": {
      "text/html": [
       "<div>\n",
       "<style scoped>\n",
       "    .dataframe tbody tr th:only-of-type {\n",
       "        vertical-align: middle;\n",
       "    }\n",
       "\n",
       "    .dataframe tbody tr th {\n",
       "        vertical-align: top;\n",
       "    }\n",
       "\n",
       "    .dataframe thead th {\n",
       "        text-align: right;\n",
       "    }\n",
       "</style>\n",
       "<table border=\"1\" class=\"dataframe\">\n",
       "  <thead>\n",
       "    <tr style=\"text-align: right;\">\n",
       "      <th></th>\n",
       "      <th>Survived</th>\n",
       "      <th>Pclass</th>\n",
       "      <th>Age</th>\n",
       "      <th>SibSp</th>\n",
       "      <th>Fare</th>\n",
       "      <th>Nan_check_age</th>\n",
       "    </tr>\n",
       "  </thead>\n",
       "  <tbody>\n",
       "    <tr>\n",
       "      <td>count</td>\n",
       "      <td>216.000000</td>\n",
       "      <td>216.0</td>\n",
       "      <td>216.000000</td>\n",
       "      <td>216.000000</td>\n",
       "      <td>216.000000</td>\n",
       "      <td>216.000000</td>\n",
       "    </tr>\n",
       "    <tr>\n",
       "      <td>mean</td>\n",
       "      <td>0.629630</td>\n",
       "      <td>1.0</td>\n",
       "      <td>37.048118</td>\n",
       "      <td>0.416667</td>\n",
       "      <td>84.154687</td>\n",
       "      <td>0.138889</td>\n",
       "    </tr>\n",
       "    <tr>\n",
       "      <td>std</td>\n",
       "      <td>0.484026</td>\n",
       "      <td>0.0</td>\n",
       "      <td>14.046369</td>\n",
       "      <td>0.611898</td>\n",
       "      <td>78.380373</td>\n",
       "      <td>0.346634</td>\n",
       "    </tr>\n",
       "    <tr>\n",
       "      <td>min</td>\n",
       "      <td>0.000000</td>\n",
       "      <td>1.0</td>\n",
       "      <td>0.920000</td>\n",
       "      <td>0.000000</td>\n",
       "      <td>0.000000</td>\n",
       "      <td>0.000000</td>\n",
       "    </tr>\n",
       "    <tr>\n",
       "      <td>25%</td>\n",
       "      <td>0.000000</td>\n",
       "      <td>1.0</td>\n",
       "      <td>29.000000</td>\n",
       "      <td>0.000000</td>\n",
       "      <td>30.923950</td>\n",
       "      <td>0.000000</td>\n",
       "    </tr>\n",
       "    <tr>\n",
       "      <td>50%</td>\n",
       "      <td>1.000000</td>\n",
       "      <td>1.0</td>\n",
       "      <td>35.000000</td>\n",
       "      <td>0.000000</td>\n",
       "      <td>60.287500</td>\n",
       "      <td>0.000000</td>\n",
       "    </tr>\n",
       "    <tr>\n",
       "      <td>75%</td>\n",
       "      <td>1.000000</td>\n",
       "      <td>1.0</td>\n",
       "      <td>47.250000</td>\n",
       "      <td>1.000000</td>\n",
       "      <td>93.500000</td>\n",
       "      <td>0.000000</td>\n",
       "    </tr>\n",
       "    <tr>\n",
       "      <td>max</td>\n",
       "      <td>1.000000</td>\n",
       "      <td>1.0</td>\n",
       "      <td>80.000000</td>\n",
       "      <td>3.000000</td>\n",
       "      <td>512.329200</td>\n",
       "      <td>1.000000</td>\n",
       "    </tr>\n",
       "  </tbody>\n",
       "</table>\n",
       "</div>"
      ],
      "text/plain": [
       "         Survived  Pclass         Age       SibSp        Fare  Nan_check_age\n",
       "count  216.000000   216.0  216.000000  216.000000  216.000000     216.000000\n",
       "mean     0.629630     1.0   37.048118    0.416667   84.154687       0.138889\n",
       "std      0.484026     0.0   14.046369    0.611898   78.380373       0.346634\n",
       "min      0.000000     1.0    0.920000    0.000000    0.000000       0.000000\n",
       "25%      0.000000     1.0   29.000000    0.000000   30.923950       0.000000\n",
       "50%      1.000000     1.0   35.000000    0.000000   60.287500       0.000000\n",
       "75%      1.000000     1.0   47.250000    1.000000   93.500000       0.000000\n",
       "max      1.000000     1.0   80.000000    3.000000  512.329200       1.000000"
      ]
     },
     "execution_count": 63,
     "metadata": {},
     "output_type": "execute_result"
    }
   ],
   "source": [
    "#claramente el valor del orden de 512 es muy grande para el resto, incluso para first class...\n",
    "data[data[\"Pclass\"]== 1].dropna().describe()"
   ]
  },
  {
   "cell_type": "code",
   "execution_count": 64,
   "metadata": {},
   "outputs": [],
   "source": [
    "#metodo 1: detect arbitrary boundary: se usa un upper y lower boundary para recortar los datos\n",
    "upper = 300\n",
    "lower = 5\n",
    "data_recort = data[data[\"Fare\"].between(5, 300) == True]"
   ]
  },
  {
   "cell_type": "code",
   "execution_count": 65,
   "metadata": {},
   "outputs": [
    {
     "data": {
      "text/plain": [
       "(872, 7)"
      ]
     },
     "execution_count": 65,
     "metadata": {},
     "output_type": "execute_result"
    }
   ],
   "source": [
    "data_recort.shape"
   ]
  },
  {
   "cell_type": "code",
   "execution_count": 66,
   "metadata": {},
   "outputs": [],
   "source": [
    "#numero de putliers detectados: hay 19 outliers. veamos cuáles son:\n",
    "outliers_1 = data[(data[\"Fare\"] <5) | (data[\"Fare\"] > 300)]"
   ]
  },
  {
   "cell_type": "code",
   "execution_count": 67,
   "metadata": {},
   "outputs": [
    {
     "data": {
      "text/plain": [
       "179      0.0000\n",
       "806      0.0000\n",
       "732      0.0000\n",
       "674      0.0000\n",
       "633      0.0000\n",
       "597      0.0000\n",
       "815      0.0000\n",
       "466      0.0000\n",
       "481      0.0000\n",
       "302      0.0000\n",
       "277      0.0000\n",
       "271      0.0000\n",
       "263      0.0000\n",
       "413      0.0000\n",
       "822      0.0000\n",
       "378      4.0125\n",
       "679    512.3292\n",
       "737    512.3292\n",
       "258    512.3292\n",
       "Name: Fare, dtype: float64"
      ]
     },
     "execution_count": 67,
     "metadata": {},
     "output_type": "execute_result"
    }
   ],
   "source": [
    "outliers_1.loc[:, \"Fare\"].sort_values() #aca estan"
   ]
  },
  {
   "cell_type": "code",
   "execution_count": 68,
   "metadata": {},
   "outputs": [],
   "source": [
    "#metodo 2: IQR\n",
    "upper = data[\"Fare\"].quantile(q = 0.75)\n",
    "lower = data[\"Fare\"].quantile(q = 0.25)\n",
    "IQR = upper - lower\n",
    "threshold = 5 * IQR #se eligio un valor de 5 en vez del tipico 1.5\n",
    "outliers_2 = data[(data[\"Fare\"] < (lower - threshold))  | (data[\"Fare\"] > (upper + threshold)) ]"
   ]
  },
  {
   "cell_type": "code",
   "execution_count": 69,
   "metadata": {},
   "outputs": [
    {
     "data": {
      "text/plain": [
       "31.0"
      ]
     },
     "execution_count": 69,
     "metadata": {},
     "output_type": "execute_result"
    }
   ],
   "source": [
    "upper"
   ]
  },
  {
   "cell_type": "code",
   "execution_count": 70,
   "metadata": {},
   "outputs": [
    {
     "data": {
      "text/plain": [
       "7.9104"
      ]
     },
     "execution_count": 70,
     "metadata": {},
     "output_type": "execute_result"
    }
   ],
   "source": [
    "lower"
   ]
  },
  {
   "cell_type": "code",
   "execution_count": 71,
   "metadata": {},
   "outputs": [
    {
     "data": {
      "text/plain": [
       "(31, 7)"
      ]
     },
     "execution_count": 71,
     "metadata": {},
     "output_type": "execute_result"
    }
   ],
   "source": [
    "outliers_2.shape"
   ]
  },
  {
   "cell_type": "code",
   "execution_count": 72,
   "metadata": {},
   "outputs": [],
   "source": [
    "#outliers detectados: 31"
   ]
  },
  {
   "cell_type": "code",
   "execution_count": 73,
   "metadata": {},
   "outputs": [
    {
     "data": {
      "text/plain": [
       "31     146.5208\n",
       "195    146.5208\n",
       "305    151.5500\n",
       "708    151.5500\n",
       "297    151.5500\n",
       "498    151.5500\n",
       "609    153.4625\n",
       "332    153.4625\n",
       "268    153.4625\n",
       "318    164.8667\n",
       "856    164.8667\n",
       "730    211.3375\n",
       "779    211.3375\n",
       "689    211.3375\n",
       "377    211.5000\n",
       "527    221.7792\n",
       "700    227.5250\n",
       "716    227.5250\n",
       "557    227.5250\n",
       "380    227.5250\n",
       "299    247.5208\n",
       "118    247.5208\n",
       "311    262.3750\n",
       "742    262.3750\n",
       "341    263.0000\n",
       "88     263.0000\n",
       "438    263.0000\n",
       "27     263.0000\n",
       "679    512.3292\n",
       "258    512.3292\n",
       "737    512.3292\n",
       "Name: Fare, dtype: float64"
      ]
     },
     "execution_count": 73,
     "metadata": {},
     "output_type": "execute_result"
    }
   ],
   "source": [
    "outliers_2.loc[:, \"Fare\"].sort_values()"
   ]
  },
  {
   "cell_type": "code",
   "execution_count": 74,
   "metadata": {},
   "outputs": [
    {
     "data": {
      "image/png": "[encoded data removed]",
      "text/plain": [
       "<Figure size 432x288 with 1 Axes>"
      ]
     },
     "execution_count": 74,
     "metadata": {},
     "output_type": "execute_result"
    },
    {
     "data": {
      "image/png": "[encoded data removed]",
      "text/plain": [
       "<Figure size 432x288 with 1 Axes>"
      ]
     },
     "metadata": {
      "needs_background": "light"
     },
     "output_type": "display_data"
    }
   ],
   "source": [
    "#method 3: Mean and Standard deviation method\n",
    "#este es un metodo utilizado cuando la dstribucion de los datos es normal\n",
    "# distribucion normal: simetrica (campana), moda= median= mean\n",
    "#para chequear si los datos tienen distribucion normal se usa el Quantile-Quantile Plot (qqplot)\n",
    "\n",
    "#QQ-plot plots your data’s quantiles ba the quantiles that you’d expect from a normal distribution. \n",
    "#If the distribution is normal, the plot is a straight diagonal line\n",
    "#source: https://www.quora.com/How-can-I-tell-if-I-see-a-normal-distribution\n",
    "import  statsmodels.api as sm\n",
    "import pylab\n",
    "sm.qqplot(data[\"Fare\"], line = \"45\")"
   ]
  },
  {
   "cell_type": "code",
   "execution_count": null,
   "metadata": {},
   "outputs": [],
   "source": []
  },
  {
   "cell_type": "code",
   "execution_count": 75,
   "metadata": {},
   "outputs": [],
   "source": [
    "#en este caso ni de coña..."
   ]
  },
  {
   "cell_type": "code",
   "execution_count": 76,
   "metadata": {},
   "outputs": [],
   "source": [
    "#pero probemos igual"
   ]
  },
  {
   "cell_type": "code",
   "execution_count": 77,
   "metadata": {},
   "outputs": [],
   "source": [
    "#Method description: The Gaussian distribution has the property that the standard deviation from the mean can be used \n",
    "#to reliably summarize the percentage of values in the sample.For example, within one standard deviation of the mean will cover 68% of the data.So, if the mean is 50 and the standard deviation is 5, as in the test dataset above, then \n",
    "#all data in the sample between 45 and 55 will account for about 68% of the data sample.\n",
    "#source: https://machinelearningmastery.com/how-to-use-statistics-to-identify-outliers-in-data/\n"
   ]
  },
  {
   "cell_type": "code",
   "execution_count": 78,
   "metadata": {},
   "outputs": [],
   "source": [
    "#Three standard deviations from the mean is a common cut-off in practice for identifying outliers in a Gaussian or Gaussian-like distribution. For smaller samples of data, perhaps a value of 2 standard deviations (95%) can be used, and for larger samples, perhaps\n",
    "#a value of 4 standard deviations (99.9%) can be used.\n",
    "#formula: upper = mean + 3*std\n",
    "#lower = mean - 3*std"
   ]
  },
  {
   "cell_type": "code",
   "execution_count": 79,
   "metadata": {},
   "outputs": [],
   "source": [
    "#implementamos...\n",
    "low_m, up_m = np.mean(data[\"Fare\"]) - 3 * np.std(data[\"Fare\"]), np.mean(data[\"Fare\"]) + 3 * np.std(data[\"Fare\"])"
   ]
  },
  {
   "cell_type": "code",
   "execution_count": 80,
   "metadata": {},
   "outputs": [],
   "source": [
    "outliers_m = data[(data[\"Fare\"] < low_m) | (data[\"Fare\"] > up_m)]"
   ]
  },
  {
   "cell_type": "code",
   "execution_count": 81,
   "metadata": {},
   "outputs": [
    {
     "data": {
      "text/plain": [
       "(20, 7)"
      ]
     },
     "execution_count": 81,
     "metadata": {},
     "output_type": "execute_result"
    }
   ],
   "source": [
    "outliers_m.shape"
   ]
  },
  {
   "cell_type": "code",
   "execution_count": 82,
   "metadata": {},
   "outputs": [],
   "source": [
    "#se detectan 20 outliers con este metodo"
   ]
  },
  {
   "cell_type": "code",
   "execution_count": 83,
   "metadata": {},
   "outputs": [
    {
     "data": {
      "text/plain": [
       "779    211.3375\n",
       "730    211.3375\n",
       "689    211.3375\n",
       "377    211.5000\n",
       "527    221.7792\n",
       "716    227.5250\n",
       "700    227.5250\n",
       "380    227.5250\n",
       "557    227.5250\n",
       "118    247.5208\n",
       "299    247.5208\n",
       "311    262.3750\n",
       "742    262.3750\n",
       "27     263.0000\n",
       "341    263.0000\n",
       "88     263.0000\n",
       "438    263.0000\n",
       "258    512.3292\n",
       "737    512.3292\n",
       "679    512.3292\n",
       "Name: Fare, dtype: float64"
      ]
     },
     "execution_count": 83,
     "metadata": {},
     "output_type": "execute_result"
    }
   ],
   "source": [
    "outliers_m.loc[:, \"Fare\"].sort_values()"
   ]
  },
  {
   "cell_type": "code",
   "execution_count": 84,
   "metadata": {},
   "outputs": [],
   "source": [
    "#Metodo 4: MAD (Median absolute deviation)\n",
    "#1) Calculate the median of the population, median(population)\n",
    "#2) Calculate the deviation from the median, using the absolute value of the deviations, |x — median(population)|= deviation\n",
    "#3) Find the median of the absolute deviations, median(|deviations|), called scaling factor\n",
    "#4) Add the scaling factor to the median of the population for the upper bound, using 3 or 3.5 correction\n",
    "#5) Subtract the scaling factor from the median of the population for the lower bound\n",
    "#6) Anything outside of the bounds is an outlier"
   ]
  },
  {
   "cell_type": "code",
   "execution_count": 85,
   "metadata": {},
   "outputs": [],
   "source": [
    "#median of the population\n",
    "median_fare = np.median(data[\"Fare\"])"
   ]
  },
  {
   "cell_type": "code",
   "execution_count": 86,
   "metadata": {},
   "outputs": [],
   "source": [
    "#deviation from median\n",
    "dev_med = [abs(x - median_fare ) for x in data[\"Fare\"]]"
   ]
  },
  {
   "cell_type": "code",
   "execution_count": 87,
   "metadata": {},
   "outputs": [],
   "source": [
    "#find median of dev_med\n",
    "scaling_factor = np.median(dev_med)"
   ]
  },
  {
   "cell_type": "code",
   "execution_count": 88,
   "metadata": {},
   "outputs": [],
   "source": [
    "#upper and lower bounds\n",
    "up_v, low_v = median_fare + 3.5 * scaling_factor, median_fare - 3.5 * scaling_factor"
   ]
  },
  {
   "cell_type": "code",
   "execution_count": 89,
   "metadata": {},
   "outputs": [],
   "source": [
    "#recortamos para sacar los outliers...\n",
    "outliers_4 = data[(data[\"Fare\"] < low_v) | (data[\"Fare\"] > up_v) ]"
   ]
  },
  {
   "cell_type": "code",
   "execution_count": 90,
   "metadata": {},
   "outputs": [
    {
     "data": {
      "text/plain": [
       "(189, 7)"
      ]
     },
     "execution_count": 90,
     "metadata": {},
     "output_type": "execute_result"
    }
   ],
   "source": [
    "outliers_4.shape"
   ]
  },
  {
   "cell_type": "code",
   "execution_count": 91,
   "metadata": {},
   "outputs": [],
   "source": [
    "#HANDLING THE OUTLIERS DETECTED\n"
   ]
  },
  {
   "cell_type": "code",
   "execution_count": 92,
   "metadata": {},
   "outputs": [
    {
     "data": {
      "text/plain": [
       "(872, 7)"
      ]
     },
     "execution_count": 92,
     "metadata": {},
     "output_type": "execute_result"
    }
   ],
   "source": [
    "#metodo 1: Imputing with arbitrary value\n",
    "#usando los outliers localizados en el metodo 1 (arbitray boundaries)...\n",
    "data_recort.shape"
   ]
  },
  {
   "cell_type": "code",
   "execution_count": 93,
   "metadata": {},
   "outputs": [],
   "source": [
    "#reempalzaremos todos los outliers por un valor -999\n",
    "outliers_1 = data[(data[\"Fare\"] <5) | (data[\"Fare\"] > 300)]"
   ]
  },
  {
   "cell_type": "code",
   "execution_count": 94,
   "metadata": {},
   "outputs": [],
   "source": [
    "def arb_value(item):\n",
    "    lower_1, upper_1 = 5,300\n",
    "    if ((item < lower_1) | (item > upper_1)):\n",
    "        item = -999         \n",
    "    return item"
   ]
  },
  {
   "cell_type": "code",
   "execution_count": 95,
   "metadata": {},
   "outputs": [],
   "source": [
    "\n",
    "data_arb= data.copy()\n",
    "data_arb[\"Fare\"] = data_arb[\"Fare\"].apply(arb_value) #aplicamos la funcion a cada elemento de columna fare"
   ]
  },
  {
   "cell_type": "code",
   "execution_count": 96,
   "metadata": {},
   "outputs": [
    {
     "data": {
      "text/plain": [
       "-999.0"
      ]
     },
     "execution_count": 96,
     "metadata": {},
     "output_type": "execute_result"
    }
   ],
   "source": [
    "data_arb[\"Fare\"][258]"
   ]
  },
  {
   "cell_type": "code",
   "execution_count": 97,
   "metadata": {},
   "outputs": [
    {
     "data": {
      "text/plain": [
       "512.3292"
      ]
     },
     "execution_count": 97,
     "metadata": {},
     "output_type": "execute_result"
    }
   ],
   "source": [
    "data[\"Fare\"][258]"
   ]
  },
  {
   "cell_type": "code",
   "execution_count": 98,
   "metadata": {},
   "outputs": [],
   "source": [
    "#metodo 2: Windsorization"
   ]
  },
  {
   "cell_type": "code",
   "execution_count": 99,
   "metadata": {},
   "outputs": [],
   "source": [
    "#consiste en reemplazar los datos del 10% mas extremo superior y el 10% extremo inferior por los\n",
    "#valores limite de sus percentiles respectivos (tambien poede ser 5% u otro %)\n",
    "#source: https://en.wikipedia.org/wiki/Winsorizing\n",
    "###EJEMPLO USANDO SCIPY.STATS\n",
    "import scipy.stats \n"
   ]
  },
  {
   "cell_type": "code",
   "execution_count": 100,
   "metadata": {},
   "outputs": [],
   "source": [
    "y = np.array([92, 19, 67, 58, 1053, 91, 26, 78, 10, 13, -40, 101, 86, 85, 15, 89, 89, 28, -58, 41])"
   ]
  },
  {
   "cell_type": "code",
   "execution_count": 101,
   "metadata": {},
   "outputs": [
    {
     "data": {
      "text/plain": [
       "masked_array(data=[ 92,  19,  67,  58, 101,  91,  26,  78,  10,  13, -40,\n",
       "                   101,  86,  85,  15,  89,  89,  28, -40,  41],\n",
       "             mask=False,\n",
       "       fill_value=999999)"
      ]
     },
     "execution_count": 101,
     "metadata": {},
     "output_type": "execute_result"
    }
   ],
   "source": [
    "scipy.stats.mstats.winsorize(a = y, limits=[0.05, 0.05])"
   ]
  },
  {
   "cell_type": "code",
   "execution_count": 102,
   "metadata": {},
   "outputs": [],
   "source": [
    "data_win = data.copy()"
   ]
  },
  {
   "cell_type": "code",
   "execution_count": 103,
   "metadata": {},
   "outputs": [],
   "source": [
    "#identificamos los numeros que quedaran arriba y abajo para ser ereemlazados"
   ]
  },
  {
   "cell_type": "code",
   "execution_count": 104,
   "metadata": {},
   "outputs": [],
   "source": [
    "def windsor(col, limits):\n",
    "    yn = np.sort(col)\n",
    "    abajo = int(limits[0] * len(yn))\n",
    "    arriba = int(limits[1] * len(yn))\n",
    "    th1 = int(yn[abajo])\n",
    "    th2 = int(yn[- (arriba + 1)])\n",
    "    for i in range(len(yn[:abajo])):\n",
    "        yn[i] = th1\n",
    "    for i in range(len(yn) - arriba , len(yn)):\n",
    "        yn[i] = th2\n",
    "    return yn\n"
   ]
  },
  {
   "cell_type": "code",
   "execution_count": 105,
   "metadata": {},
   "outputs": [
    {
     "data": {
      "text/plain": [
       "count    891.000000\n",
       "mean      32.204208\n",
       "std       49.693429\n",
       "min        0.000000\n",
       "25%        7.910400\n",
       "50%       14.454200\n",
       "75%       31.000000\n",
       "max      512.329200\n",
       "Name: Fare, dtype: float64"
      ]
     },
     "execution_count": 105,
     "metadata": {},
     "output_type": "execute_result"
    }
   ],
   "source": [
    "data_win[\"Fare\"].describe()"
   ]
  },
  {
   "cell_type": "code",
   "execution_count": 106,
   "metadata": {},
   "outputs": [
    {
     "ename": "NameError",
     "evalue": "name 'data_wind' is not defined",
     "output_type": "error",
     "traceback": [
      "\u001b[1;31m---------------------------------------------------------------------------\u001b[0m",
      "\u001b[1;31mNameError\u001b[0m                                 Traceback (most recent call last)",
      "\u001b[1;32m<ipython-input-106-0250b9607b0c>\u001b[0m in \u001b[0;36m<module>\u001b[1;34m\u001b[0m\n\u001b[1;32m----> 1\u001b[1;33m \u001b[0mdata_win\u001b[0m\u001b[1;33m[\u001b[0m\u001b[1;34m\"Fare\"\u001b[0m\u001b[1;33m]\u001b[0m \u001b[1;33m=\u001b[0m \u001b[0mwindsor\u001b[0m\u001b[1;33m(\u001b[0m\u001b[0mcol\u001b[0m \u001b[1;33m=\u001b[0m \u001b[0mdata_wind\u001b[0m\u001b[1;33m[\u001b[0m\u001b[1;34m\"Fare\"\u001b[0m\u001b[1;33m]\u001b[0m\u001b[1;33m,\u001b[0m \u001b[0mlimits\u001b[0m \u001b[1;33m=\u001b[0m \u001b[1;33m(\u001b[0m\u001b[1;36m0.1\u001b[0m\u001b[1;33m,\u001b[0m \u001b[1;36m0.1\u001b[0m\u001b[1;33m)\u001b[0m\u001b[1;33m)\u001b[0m\u001b[1;33m\u001b[0m\u001b[1;33m\u001b[0m\u001b[0m\n\u001b[0m",
      "\u001b[1;31mNameError\u001b[0m: name 'data_wind' is not defined"
     ]
    }
   ],
   "source": [
    "data_win[\"Fare\"] = windsor(col = data_wind[\"Fare\"], limits = (0.1, 0.1))"
   ]
  },
  {
   "cell_type": "code",
   "execution_count": null,
   "metadata": {},
   "outputs": [],
   "source": [
    "data_win[\"Fare\"][:10] # solo una muestra porque gasta el valor 89 se reemplza por abajo"
   ]
  },
  {
   "cell_type": "code",
   "execution_count": null,
   "metadata": {},
   "outputs": [],
   "source": [
    "#metodo 3: chanchamente deshacerse de los datapoints outliers..\n",
    "#tomamos cualquier caso de los de arriba\n",
    "use_cols = ['Pclass', 'Sex', 'Age', 'Fare', 'SibSp', 'Survived']\n",
    "data = pd.read_csv(\"titanic.csv\", usecols= use_cols, )\n",
    "data_disc = data.copy()"
   ]
  },
  {
   "cell_type": "code",
   "execution_count": null,
   "metadata": {},
   "outputs": [],
   "source": [
    "#ejemplo; valores de Fare sore 300 y bajo 5 \n",
    "data_disc = data[(data[\"Fare\"] > 5) & (data[\"Fare\"] < 300)]"
   ]
  },
  {
   "cell_type": "code",
   "execution_count": null,
   "metadata": {},
   "outputs": [],
   "source": [
    "data_disc.max()"
   ]
  },
  {
   "cell_type": "code",
   "execution_count": null,
   "metadata": {},
   "outputs": [],
   "source": [
    "####SIMBOLO OR EN MAC: ALT + 1 "
   ]
  },
  {
   "cell_type": "code",
   "execution_count": null,
   "metadata": {},
   "outputs": [],
   "source": [
    "data_disc.describe()"
   ]
  },
  {
   "cell_type": "code",
   "execution_count": null,
   "metadata": {},
   "outputs": [],
   "source": [
    "#metodo 3: replace the outliers with mean, median or mode"
   ]
  },
  {
   "cell_type": "code",
   "execution_count": null,
   "metadata": {},
   "outputs": [],
   "source": [
    "promedio_fare= data[\"Fare\"].mean()"
   ]
  },
  {
   "cell_type": "code",
   "execution_count": null,
   "metadata": {},
   "outputs": [],
   "source": [
    "#reemplazaremos todos los que estan fuera de rango con promedio..."
   ]
  },
  {
   "cell_type": "code",
   "execution_count": null,
   "metadata": {},
   "outputs": [],
   "source": [
    "data_r = data.copy()"
   ]
  },
  {
   "cell_type": "code",
   "execution_count": null,
   "metadata": {},
   "outputs": [],
   "source": [
    "data_r.describe()"
   ]
  },
  {
   "cell_type": "code",
   "execution_count": null,
   "metadata": {},
   "outputs": [],
   "source": [
    "promedio_fare= data[\"Fare\"].mean()"
   ]
  },
  {
   "cell_type": "code",
   "execution_count": null,
   "metadata": {},
   "outputs": [],
   "source": [
    "promedio_fare"
   ]
  },
  {
   "cell_type": "code",
   "execution_count": null,
   "metadata": {},
   "outputs": [],
   "source": [
    "data_r.head()"
   ]
  },
  {
   "cell_type": "code",
   "execution_count": null,
   "metadata": {},
   "outputs": [],
   "source": [
    "#df['my_channel'].mask(df['my_channel'] > 20000, 0, inplace=True)\n",
    "data_r['Fare'].mask(cond = (data_r[\"Fare\"] <5) | (data_r[\"Fare\"] > 300), other = promedio_fare, inplace=True)\n",
    "###MASK PERMITE REEMPLAZAR LOS VALORES QUE COMPLAN CON CONDICION COND ASIGNANDOLES EL VALOR OTHER\n",
    "\n"
   ]
  },
  {
   "cell_type": "code",
   "execution_count": null,
   "metadata": {},
   "outputs": [],
   "source": [
    "data_r[\"Fare\"][258]"
   ]
  },
  {
   "cell_type": "markdown",
   "metadata": {},
   "source": [
    "###############"
   ]
  },
  {
   "cell_type": "markdown",
   "metadata": {},
   "source": [
    "####2.3 RARE VALUES"
   ]
  },
  {
   "cell_type": "code",
   "execution_count": null,
   "metadata": {},
   "outputs": [],
   "source": [
    "#Definicion: son aquellas variables categoricas que muestran algunos valores que aparecen muy esporadicamente"
   ]
  },
  {
   "cell_type": "code",
   "execution_count": null,
   "metadata": {},
   "outputs": [],
   "source": [
    "#en casos como deteccion de fraudes pueden ser muy valiosos"
   ]
  },
  {
   "cell_type": "code",
   "execution_count": null,
   "metadata": {},
   "outputs": [],
   "source": [
    "#why rare values matter??\n",
    "#can cause overfitting\n",
    "#if they are n the training set and not in test set it will overfit train set\n",
    "#if they are in test set and not in train set the model will not know what to do with it"
   ]
  },
  {
   "cell_type": "code",
   "execution_count": null,
   "metadata": {},
   "outputs": [],
   "source": [
    "#Recipe:\n",
    "#two methods: - mode imputation or create a new category for the rares called RARE for eg\n",
    "#when there's one predominant category (over 90%) in the variable: observe the relationship between that variable \n",
    "#and the target, then either discard that variable, or keep it as it was. In this case, \n",
    "#variable often is not useful for prediction as it is quasi-constant (as we will later see in Feature Selection part).\n",
    "#when there's a small number of categories: keep it as it was. Because only few categories are unlikely \n",
    "#to bring so much noise.\n",
    "#when there's high cardinality: try the 2 methods above. But it does not guarantee \n",
    "#better results than original variable."
   ]
  },
  {
   "cell_type": "code",
   "execution_count": null,
   "metadata": {},
   "outputs": [],
   "source": [
    "#load dataset"
   ]
  },
  {
   "cell_type": "code",
   "execution_count": null,
   "metadata": {},
   "outputs": [],
   "source": [
    "use_cols = ['Pclass', 'Sex', 'Age', 'Fare', 'SibSp','Survived']\n",
    "data = pd.read_csv(\"titanic.csv\", usecols= use_cols)"
   ]
  },
  {
   "cell_type": "code",
   "execution_count": null,
   "metadata": {},
   "outputs": [],
   "source": [
    "data.head()"
   ]
  },
  {
   "cell_type": "code",
   "execution_count": null,
   "metadata": {},
   "outputs": [],
   "source": [
    "#analicemos antes la proporcion de cada clase en cada variable\n",
    "data[\"Pclass\"].value_counts(normalize = True)"
   ]
  },
  {
   "cell_type": "code",
   "execution_count": null,
   "metadata": {},
   "outputs": [],
   "source": [
    "data[\"SibSp\"].value_counts(normalize= True)"
   ]
  },
  {
   "cell_type": "code",
   "execution_count": null,
   "metadata": {},
   "outputs": [],
   "source": [
    "#SibSp tiene valores 3,5 y 8 que aparecen menos del 2% de las veces"
   ]
  },
  {
   "cell_type": "code",
   "execution_count": null,
   "metadata": {},
   "outputs": [],
   "source": [
    "#trataremos Sibsp, ya que con Pclass tenemos solo 3 clases y ninguna tiene una predominancia de 90% o algo asi"
   ]
  },
  {
   "cell_type": "code",
   "execution_count": null,
   "metadata": {},
   "outputs": [],
   "source": [
    "#Metodo 1: replace the clases with the mode"
   ]
  },
  {
   "cell_type": "code",
   "execution_count": null,
   "metadata": {},
   "outputs": [],
   "source": [
    "data_rare1 = data.copy()"
   ]
  },
  {
   "cell_type": "code",
   "execution_count": null,
   "metadata": {},
   "outputs": [],
   "source": [
    "data_rare1.SibSp.value_counts()"
   ]
  },
  {
   "cell_type": "code",
   "execution_count": null,
   "metadata": {},
   "outputs": [],
   "source": [
    "#claramente mode es clase 0\n",
    "#usaremos mask\n",
    "data_rare1[\"SibSp\"].mask(cond = (data_rare1[\"SibSp\"] == 3) | (data_rare1[\"SibSp\"] == 5) |\n",
    "                          (data_rare1[\"SibSp\"] == 8), other = 0, inplace = True  )"
   ]
  },
  {
   "cell_type": "code",
   "execution_count": null,
   "metadata": {},
   "outputs": [],
   "source": [
    "data_rare1[\"SibSp\"].value_counts()"
   ]
  },
  {
   "cell_type": "code",
   "execution_count": null,
   "metadata": {},
   "outputs": [],
   "source": [
    "#metodo 2: create a new category for the rare..."
   ]
  },
  {
   "cell_type": "code",
   "execution_count": null,
   "metadata": {},
   "outputs": [],
   "source": [
    "# De nuevo no tocamos a la variable Pclass, sino solo a SibSp"
   ]
  },
  {
   "cell_type": "code",
   "execution_count": null,
   "metadata": {},
   "outputs": [],
   "source": [
    "dr = data.copy()"
   ]
  },
  {
   "cell_type": "code",
   "execution_count": null,
   "metadata": {},
   "outputs": [],
   "source": [
    "dr.SibSp.value_counts()"
   ]
  },
  {
   "cell_type": "code",
   "execution_count": null,
   "metadata": {},
   "outputs": [],
   "source": [
    "#creamos la variable para las clases 3,5 y 8"
   ]
  },
  {
   "cell_type": "code",
   "execution_count": null,
   "metadata": {},
   "outputs": [],
   "source": [
    "dr[\"SibSp\"].mask(cond =  (dr[\"SibSp\"] == 3) | (dr[\"SibSp\"] == 5) |\n",
    "                          (dr[\"SibSp\"] == 8), other= \"RARE\", inplace = True)"
   ]
  },
  {
   "cell_type": "code",
   "execution_count": null,
   "metadata": {},
   "outputs": [],
   "source": [
    "dr[\"SibSp\"].value_counts()"
   ]
  },
  {
   "cell_type": "code",
   "execution_count": null,
   "metadata": {},
   "outputs": [],
   "source": [
    "#2.4 HIGH CARDINALITY: high number of categories in a variable"
   ]
  },
  {
   "cell_type": "code",
   "execution_count": null,
   "metadata": {},
   "outputs": [],
   "source": [
    "#methods:\n",
    "#create a new category to regroup labels with low ocurrence\n",
    "#grouping labels with business understanding\n",
    "#grouping labels with a desision tree"
   ]
  },
  {
   "cell_type": "code",
   "execution_count": null,
   "metadata": {},
   "outputs": [],
   "source": [
    "\n",
    "######PROXIMA: FEATURE ENGINEERING"
   ]
  },
  {
   "cell_type": "markdown",
   "metadata": {},
   "source": [
    "# 3. FEATURE ENGINEERING"
   ]
  },
  {
   "cell_type": "markdown",
   "metadata": {},
   "source": [
    "# 3.1 Feature Scaling"
   ]
  },
  {
   "cell_type": "code",
   "execution_count": null,
   "metadata": {},
   "outputs": [],
   "source": [
    "#url: https://medium.com/@swethalakshmanan14/how-when-and-why-should-you-normalize-standardize-rescale-your-data-3f083def38ff\n",
    "\n",
    "##RECIPE: - Normalize: when features have varying scales and you dont know the distribution of your data. \n",
    "# useful with algorithms tha dont make assumptions on the distruibution of your data. Eg: NN, K-Nearest\n",
    "##        - Standarize: when  features have varying scales and you know the distribution of your data is gaussian. \n",
    "#          useful with algorithms tha assume your data is gaussian. Eg: linear regression, linear regression, discriminant.\n",
    "\n",
    "#Metodo1: Standarization(Zscore)\n",
    "# value = (value - mean)(std)"
   ]
  },
  {
   "cell_type": "code",
   "execution_count": null,
   "metadata": {},
   "outputs": [],
   "source": [
    "#normalicemos Fare"
   ]
  },
  {
   "cell_type": "code",
   "execution_count": null,
   "metadata": {},
   "outputs": [],
   "source": [
    "dr = data.copy()"
   ]
  },
  {
   "cell_type": "code",
   "execution_count": null,
   "metadata": {},
   "outputs": [],
   "source": [
    "dr.Fare.describe()"
   ]
  },
  {
   "cell_type": "code",
   "execution_count": null,
   "metadata": {},
   "outputs": [],
   "source": [
    "prom, std = dr[\"Fare\"].mean(), dr[\"Fare\"].std()\n",
    "def zcored(item):\n",
    "    return(item - prom)/std\n",
    "     "
   ]
  },
  {
   "cell_type": "code",
   "execution_count": null,
   "metadata": {},
   "outputs": [],
   "source": [
    "\n",
    "dr[\"Fare_Zscored\"] = dr[\"Fare\"].apply(zcored)"
   ]
  },
  {
   "cell_type": "code",
   "execution_count": null,
   "metadata": {},
   "outputs": [],
   "source": [
    "dr.head()"
   ]
  },
  {
   "cell_type": "code",
   "execution_count": null,
   "metadata": {},
   "outputs": [],
   "source": [
    "dr[\"Fare_Zscored\"].describe() #vemos que se cumple que la distribucion de Fare_Zscored tiene media 0 y std 1"
   ]
  },
  {
   "cell_type": "code",
   "execution_count": null,
   "metadata": {},
   "outputs": [],
   "source": [
    "#Metodo 2: NORMALIZATION Min-max scaling\n",
    "#transforma los datos dejando todos sus valores dentro de un rango determinado.Por defecto [0,1] "
   ]
  },
  {
   "cell_type": "code",
   "execution_count": null,
   "metadata": {},
   "outputs": [],
   "source": [
    "#Formula: X_scaled = (X - X.min / (X.max - X.min)"
   ]
  },
  {
   "cell_type": "code",
   "execution_count": null,
   "metadata": {},
   "outputs": [],
   "source": [
    "maxy, miny = dr[\"Fare\"].max(), dr[\"Fare\"].min()"
   ]
  },
  {
   "cell_type": "code",
   "execution_count": null,
   "metadata": {},
   "outputs": [],
   "source": [
    "def minmax(item):\n",
    "    return (item - miny)/(maxy - miny)\n",
    "    "
   ]
  },
  {
   "cell_type": "code",
   "execution_count": null,
   "metadata": {},
   "outputs": [],
   "source": [
    "dr[\"Fare_minmax\"] = dr[\"Fare\"].apply(minmax) "
   ]
  },
  {
   "cell_type": "code",
   "execution_count": null,
   "metadata": {},
   "outputs": [],
   "source": [
    "dr.head()"
   ]
  },
  {
   "cell_type": "code",
   "execution_count": null,
   "metadata": {},
   "outputs": [],
   "source": [
    "dr[\"Fare_minmax\"].describe() #vemos que todos los valores quedan entre 0 y 1"
   ]
  },
  {
   "cell_type": "code",
   "execution_count": null,
   "metadata": {},
   "outputs": [],
   "source": [
    "#metodo3: NORMALIZATION Robust scaling\n",
    "#consiste en reescalar los valores usando el IQR\n",
    "#formula: x = (x - mediana)/IQR"
   ]
  },
  {
   "cell_type": "code",
   "execution_count": null,
   "metadata": {},
   "outputs": [],
   "source": [
    "#implementamos...\n",
    "mediana, IQR = dr[\"Fare\"].median(), (dr[\"Fare\"].quantile(0.75) - dr[\"Fare\"].quantile(0.25))"
   ]
  },
  {
   "cell_type": "code",
   "execution_count": null,
   "metadata": {},
   "outputs": [],
   "source": [
    "def robust(item):\n",
    "    return (item - mediana)/IQR"
   ]
  },
  {
   "cell_type": "code",
   "execution_count": null,
   "metadata": {},
   "outputs": [],
   "source": [
    "dr[\"Robust\"] = dr[\"Fare\"].apply(robust)"
   ]
  },
  {
   "cell_type": "code",
   "execution_count": null,
   "metadata": {},
   "outputs": [],
   "source": [
    "dr.head()"
   ]
  },
  {
   "cell_type": "code",
   "execution_count": null,
   "metadata": {},
   "outputs": [],
   "source": [
    "dr.Robust.describe()"
   ]
  },
  {
   "cell_type": "code",
   "execution_count": null,
   "metadata": {},
   "outputs": [],
   "source": [
    "dr.describe()"
   ]
  },
  {
   "cell_type": "code",
   "execution_count": null,
   "metadata": {
    "scrolled": true
   },
   "outputs": [],
   "source": [
    "dr.describe(include = [np.object])"
   ]
  },
  {
   "cell_type": "code",
   "execution_count": null,
   "metadata": {},
   "outputs": [],
   "source": [
    "dr.describe(include = [np.number])"
   ]
  },
  {
   "cell_type": "markdown",
   "metadata": {},
   "source": [
    "## 3.2 DISCRETIZE"
   ]
  },
  {
   "cell_type": "code",
   "execution_count": null,
   "metadata": {},
   "outputs": [],
   "source": [
    "#Definicion: se usa para transformar variables continuas a discretas usando intervalos que cubran todo el espectro de valores"
   ]
  },
  {
   "cell_type": "code",
   "execution_count": null,
   "metadata": {},
   "outputs": [],
   "source": [
    "#reloading dataset to start fresh...\n",
    "use_cols = [ 'Pclass', 'Sex', 'Age', 'Fare', 'SibSp','Survived']\n",
    "\n",
    "data = pd.read_csv(\"titanic.csv\", usecols=use_cols)"
   ]
  },
  {
   "cell_type": "code",
   "execution_count": null,
   "metadata": {},
   "outputs": [],
   "source": [
    "data.head()"
   ]
  },
  {
   "cell_type": "code",
   "execution_count": null,
   "metadata": {},
   "outputs": [],
   "source": [
    "# La unica variable con valores continuos es Fare...\n",
    "data.Fare.describe()"
   ]
  },
  {
   "cell_type": "code",
   "execution_count": null,
   "metadata": {},
   "outputs": [],
   "source": [
    "sns.distplot( a = data.Fare, bins = 40, kde = False)"
   ]
  },
  {
   "cell_type": "code",
   "execution_count": null,
   "metadata": {},
   "outputs": [],
   "source": [
    "#Metodo 1: Equal width binning\n",
    "# Consiste en dividir el espectro de valores en N bins de igual ancho\n",
    "# t = (x.max - x.min)/ N\n",
    "df = data.copy()\n"
   ]
  },
  {
   "cell_type": "code",
   "execution_count": null,
   "metadata": {},
   "outputs": [],
   "source": [
    "#mi implementación\n",
    "def discrete(col, N):\n",
    "    t = (np.max(col) - np.min(col))/N\n",
    "    new = col.copy()\n",
    "    bins = {}  #creo los bins\n",
    "    for i in range(N):\n",
    "        bins[i] = (np.min(col) + i * t, np.min(col) + (1 +i) *t)#lleno los bins\n",
    "    for i in range(len(col)):#distribuyo valores por bins en columna new\n",
    "        for j in range(len(bins)):\n",
    "            if (col[i] >= bins[j][0] and col[i] <= bins[j][1]):\n",
    "                new[i] = j\n",
    "    return new  "
   ]
  },
  {
   "cell_type": "code",
   "execution_count": null,
   "metadata": {},
   "outputs": [],
   "source": [
    "data.Fare.describe()"
   ]
  },
  {
   "cell_type": "code",
   "execution_count": null,
   "metadata": {},
   "outputs": [],
   "source": [
    "df[\"Fare_discretized\"] = discrete(data.Fare, 3)"
   ]
  },
  {
   "cell_type": "code",
   "execution_count": null,
   "metadata": {},
   "outputs": [],
   "source": [
    "df.groupby(\"Fare_discretized\").size()"
   ]
  },
  {
   "cell_type": "code",
   "execution_count": null,
   "metadata": {},
   "outputs": [],
   "source": [
    "##Implementación usando herramientas de sklearn...\n",
    "from sklearn.preprocessing import KBinsDiscretizer\n",
    "from sklearn.model_selection import train_test_split\n"
   ]
  },
  {
   "cell_type": "code",
   "execution_count": null,
   "metadata": {},
   "outputs": [],
   "source": [
    "data2 = data.copy()"
   ]
  },
  {
   "cell_type": "code",
   "execution_count": null,
   "metadata": {},
   "outputs": [],
   "source": [
    "#a diferencia de mi implementacion, se usará un train y test set acá\n",
    "X_train, X_test, y_train, y_test = train_test_split(data2, data2.Survived, test_size = 0.3, random_state = 42)"
   ]
  },
  {
   "cell_type": "code",
   "execution_count": null,
   "metadata": {},
   "outputs": [],
   "source": [
    "X_train.shape, X_test.shape"
   ]
  },
  {
   "cell_type": "code",
   "execution_count": null,
   "metadata": {},
   "outputs": [],
   "source": [
    "enc_equal_width = KBinsDiscretizer(n_bins=3, encode=\"ordinal\",strategy= \"uniform\").fit(X_train[[\"Fare\"]])"
   ]
  },
  {
   "cell_type": "code",
   "execution_count": null,
   "metadata": {},
   "outputs": [],
   "source": [
    "enc_equal_width.bin_edges_ #muestra todos los valores"
   ]
  },
  {
   "cell_type": "code",
   "execution_count": null,
   "metadata": {},
   "outputs": [],
   "source": [
    "result = enc_equal_width.transform(X_train[[\"Fare\"]]) #genera un array de todos los valores asignados segun bin"
   ]
  },
  {
   "cell_type": "code",
   "execution_count": null,
   "metadata": {},
   "outputs": [],
   "source": [
    "pd.DataFrame(result)[0].value_counts()\n"
   ]
  },
  {
   "cell_type": "code",
   "execution_count": null,
   "metadata": {},
   "outputs": [],
   "source": [
    "#agregamos la columna nueva a el X_train pero hacenms una copia antes\n",
    "X_train_copy = X_train.copy(deep = True)"
   ]
  },
  {
   "cell_type": "code",
   "execution_count": null,
   "metadata": {},
   "outputs": [],
   "source": [
    "X_train_copy[\"Fare_equal_width\"] = enc_equal_width.transform(X_train[[\"Fare\"]])"
   ]
  },
  {
   "cell_type": "code",
   "execution_count": null,
   "metadata": {},
   "outputs": [],
   "source": [
    "X_train_copy.head(10)"
   ]
  },
  {
   "cell_type": "code",
   "execution_count": null,
   "metadata": {},
   "outputs": [],
   "source": [
    "#metodo2: equal frequency binning\n",
    "#Divide los datos en N Bins, donde cada bins tiene la misma cantidad de observaciones\n"
   ]
  },
  {
   "cell_type": "code",
   "execution_count": null,
   "metadata": {},
   "outputs": [],
   "source": [
    "#Mi implementacion...\n",
    "def equal_freq(col, N):\n",
    "    t = int(len(col) / N) # nro observaciones por bin\n",
    "    new = col.copy() #copia y ordenado de columna\n",
    "    bins = []  #creo los bins\n",
    "    k = np.sort(col)\n",
    "    for i in range(N):\n",
    "        if i == N - 1:\n",
    "            bins.append(k[i * t:])\n",
    "        else:\n",
    "            bins.append(k[i * t: t + i * t])#lleno los bins\n",
    "            \n",
    "    for i in range(len(col)):#distribuyo valores de categoria por bins en columna new\n",
    "        for j in range(len(bins)):\n",
    "            if col[i] in bins[j]: \n",
    "                new[i] = j\n",
    "    return new\n",
    "\n",
    "        "
   ]
  },
  {
   "cell_type": "code",
   "execution_count": null,
   "metadata": {},
   "outputs": [],
   "source": [
    "#test...\n",
    "data3 = data.copy()"
   ]
  },
  {
   "cell_type": "code",
   "execution_count": null,
   "metadata": {},
   "outputs": [],
   "source": [
    "data3[\"Fare\"].describe()"
   ]
  },
  {
   "cell_type": "code",
   "execution_count": null,
   "metadata": {},
   "outputs": [],
   "source": [
    "new2 = equal_freq(data3[\"Fare\"], 3)"
   ]
  },
  {
   "cell_type": "code",
   "execution_count": null,
   "metadata": {},
   "outputs": [],
   "source": [
    "type(new2) "
   ]
  },
  {
   "cell_type": "code",
   "execution_count": null,
   "metadata": {},
   "outputs": [],
   "source": [
    "data3[\"Fare_Eq_Freq\"] = new2"
   ]
  },
  {
   "cell_type": "code",
   "execution_count": null,
   "metadata": {},
   "outputs": [],
   "source": [
    "data3.head()"
   ]
  },
  {
   "cell_type": "code",
   "execution_count": null,
   "metadata": {},
   "outputs": [],
   "source": [
    "#metodo 3: K-Means Binning\n",
    "#utiliza el algoritmo de K-Means para clusterizar los datos"
   ]
  },
  {
   "cell_type": "code",
   "execution_count": null,
   "metadata": {},
   "outputs": [],
   "source": [
    "sns.scatterplot(data = data[\"Fare\"])"
   ]
  },
  {
   "cell_type": "code",
   "execution_count": 200,
   "metadata": {},
   "outputs": [],
   "source": [
    "def K_means(col, K): #col: data, K:nr or centroids\n",
    "    #initialization of clusters\n",
    "    clusters = {}\n",
    "    for i in range(K):#creates a dict with empty lists to be filled\n",
    "        clusters[i] = []\n",
    "    #random initialization of centroids...\n",
    "    centroids = np.array(np.random.rand(K))\n",
    "    #Assignment of datapoints with shortest distance criteria\n",
    "    for n in range(300): #300 iterations\n",
    "        #guardamos una copia de centroides vigentes para comparar\n",
    "        old_centroids = centroids.copy()\n",
    "        for item in col:\n",
    "            j = np.argmin([np.sqrt((cent - item)**2) for cent in centroids])\n",
    "            clusters[j].append(item)\n",
    "        #print(\"clusters iteracion\", n, clusters)\n",
    "        #actualizo centroides con mean()\n",
    "        centroids = [np.mean(clusters[i]) for i in clusters]\n",
    "        if np.sqrt(np.sum((np.array(centroids) - np.array(old_centroids)**2)) < 0.01:\n",
    "            break\n",
    "        for l in range(len(centroids)):\n",
    "            if np.isnan(centroids[l]):\n",
    "                print(\"yes\")\n",
    "                centroids[l] = 0\n",
    "        #print(\"centroides con nuevo promedio:\", centroids)\n",
    "        #print(\"clusters:\", clusters)\n",
    "        #empty the clusters to be filled again in next iteration\n",
    "        final_cluster = clusters.copy()\n",
    "        for i in range(K):\n",
    "            clusters[i] = []\n",
    "        \n",
    "    return final_cluster, centroids\n",
    "    \n",
    "    \n",
    "        \n"
   ]
  },
  {
   "cell_type": "code",
   "execution_count": 201,
   "metadata": {},
   "outputs": [
    {
     "name": "stdout",
     "output_type": "stream",
     "text": [
      "yes\n"
     ]
    },
    {
     "ename": "TypeError",
     "evalue": "unsupported operand type(s) for -: 'list' and 'list'",
     "output_type": "error",
     "traceback": [
      "\u001b[1;31m---------------------------------------------------------------------------\u001b[0m",
      "\u001b[1;31mTypeError\u001b[0m                                 Traceback (most recent call last)",
      "\u001b[1;32m<ipython-input-201-bd1017f053d3>\u001b[0m in \u001b[0;36m<module>\u001b[1;34m\u001b[0m\n\u001b[0;32m      1\u001b[0m \u001b[0mcol\u001b[0m \u001b[1;33m=\u001b[0m \u001b[1;33m[\u001b[0m\u001b[1;36m2\u001b[0m\u001b[1;33m,\u001b[0m\u001b[1;36m3\u001b[0m\u001b[1;33m,\u001b[0m\u001b[1;36m4\u001b[0m\u001b[1;33m,\u001b[0m\u001b[1;36m5\u001b[0m\u001b[1;33m,\u001b[0m\u001b[1;36m6\u001b[0m\u001b[1;33m,\u001b[0m \u001b[1;36m11\u001b[0m\u001b[1;33m,\u001b[0m \u001b[1;36m23\u001b[0m\u001b[1;33m,\u001b[0m \u001b[1;36m1\u001b[0m\u001b[1;33m,\u001b[0m \u001b[1;36m3\u001b[0m\u001b[1;33m,\u001b[0m \u001b[1;36m56\u001b[0m\u001b[1;33m,\u001b[0m \u001b[1;36m89\u001b[0m\u001b[1;33m]\u001b[0m\u001b[1;33m\u001b[0m\u001b[1;33m\u001b[0m\u001b[0m\n\u001b[1;32m----> 2\u001b[1;33m \u001b[0mclust\u001b[0m\u001b[1;33m,\u001b[0m \u001b[0mcent\u001b[0m \u001b[1;33m=\u001b[0m \u001b[0mK_means\u001b[0m\u001b[1;33m(\u001b[0m\u001b[0mdata\u001b[0m\u001b[1;33m[\u001b[0m\u001b[1;34m\"Fare\"\u001b[0m\u001b[1;33m]\u001b[0m\u001b[1;33m,\u001b[0m \u001b[1;36m3\u001b[0m\u001b[1;33m)\u001b[0m\u001b[1;33m\u001b[0m\u001b[1;33m\u001b[0m\u001b[0m\n\u001b[0m\u001b[0;32m      3\u001b[0m \u001b[1;33m\u001b[0m\u001b[0m\n\u001b[0;32m      4\u001b[0m \u001b[1;31m###Falta encontrar un criterio de detencion de la iteracion\u001b[0m\u001b[1;33m\u001b[0m\u001b[1;33m\u001b[0m\u001b[1;33m\u001b[0m\u001b[0m\n\u001b[0;32m      5\u001b[0m \u001b[1;33m\u001b[0m\u001b[0m\n",
      "\u001b[1;32m<ipython-input-200-248d9c9dc4e4>\u001b[0m in \u001b[0;36mK_means\u001b[1;34m(col, K)\u001b[0m\n\u001b[0;32m     16\u001b[0m         \u001b[1;31m#actualizo centroides con mean()\u001b[0m\u001b[1;33m\u001b[0m\u001b[1;33m\u001b[0m\u001b[1;33m\u001b[0m\u001b[0m\n\u001b[0;32m     17\u001b[0m         \u001b[0mcentroids\u001b[0m \u001b[1;33m=\u001b[0m \u001b[1;33m[\u001b[0m\u001b[0mnp\u001b[0m\u001b[1;33m.\u001b[0m\u001b[0mmean\u001b[0m\u001b[1;33m(\u001b[0m\u001b[0mclusters\u001b[0m\u001b[1;33m[\u001b[0m\u001b[0mi\u001b[0m\u001b[1;33m]\u001b[0m\u001b[1;33m)\u001b[0m \u001b[1;32mfor\u001b[0m \u001b[0mi\u001b[0m \u001b[1;32min\u001b[0m \u001b[0mclusters\u001b[0m\u001b[1;33m]\u001b[0m\u001b[1;33m\u001b[0m\u001b[1;33m\u001b[0m\u001b[0m\n\u001b[1;32m---> 18\u001b[1;33m         \u001b[1;32mif\u001b[0m \u001b[0mnp\u001b[0m\u001b[1;33m.\u001b[0m\u001b[0msqrt\u001b[0m\u001b[1;33m(\u001b[0m\u001b[0mnp\u001b[0m\u001b[1;33m.\u001b[0m\u001b[0msum\u001b[0m\u001b[1;33m(\u001b[0m\u001b[1;33m(\u001b[0m\u001b[0mcentroids\u001b[0m \u001b[1;33m-\u001b[0m \u001b[0mold_centroids\u001b[0m\u001b[1;33m)\u001b[0m\u001b[1;33m**\u001b[0m\u001b[1;36m2\u001b[0m\u001b[1;33m)\u001b[0m\u001b[1;33m)\u001b[0m \u001b[1;33m<\u001b[0m \u001b[1;36m0.01\u001b[0m\u001b[1;33m:\u001b[0m\u001b[1;33m\u001b[0m\u001b[1;33m\u001b[0m\u001b[0m\n\u001b[0m\u001b[0;32m     19\u001b[0m             \u001b[1;32mbreak\u001b[0m\u001b[1;33m\u001b[0m\u001b[1;33m\u001b[0m\u001b[0m\n\u001b[0;32m     20\u001b[0m         \u001b[1;32mfor\u001b[0m \u001b[0ml\u001b[0m \u001b[1;32min\u001b[0m \u001b[0mrange\u001b[0m\u001b[1;33m(\u001b[0m\u001b[0mlen\u001b[0m\u001b[1;33m(\u001b[0m\u001b[0mcentroids\u001b[0m\u001b[1;33m)\u001b[0m\u001b[1;33m)\u001b[0m\u001b[1;33m:\u001b[0m\u001b[1;33m\u001b[0m\u001b[1;33m\u001b[0m\u001b[0m\n",
      "\u001b[1;31mTypeError\u001b[0m: unsupported operand type(s) for -: 'list' and 'list'"
     ]
    }
   ],
   "source": [
    "col = [2,3,4,5,6, 11, 23, 1, 3, 56, 89]\n",
    "clust, cent = K_means(data[\"Fare\"], 3)\n",
    "\n",
    "###Falta encontrar un criterio de detencion de la iteracion\n",
    "\n"
   ]
  },
  {
   "cell_type": "code",
   "execution_count": 195,
   "metadata": {},
   "outputs": [
    {
     "data": {
      "text/plain": [
       "{0: [71.2833,\n",
       "  53.1,\n",
       "  51.8625,\n",
       "  146.5208,\n",
       "  82.1708,\n",
       "  52.0,\n",
       "  76.7292,\n",
       "  61.9792,\n",
       "  80.0,\n",
       "  83.475,\n",
       "  73.5,\n",
       "  56.4958,\n",
       "  61.175,\n",
       "  63.3583,\n",
       "  77.2875,\n",
       "  52.0,\n",
       "  73.5,\n",
       "  77.2875,\n",
       "  53.1,\n",
       "  79.2,\n",
       "  66.6,\n",
       "  61.3792,\n",
       "  69.55,\n",
       "  55.0,\n",
       "  56.4958,\n",
       "  69.55,\n",
       "  50.0,\n",
       "  146.5208,\n",
       "  69.55,\n",
       "  113.275,\n",
       "  76.2917,\n",
       "  90.0,\n",
       "  83.475,\n",
       "  90.0,\n",
       "  52.5542,\n",
       "  79.2,\n",
       "  86.5,\n",
       "  79.65,\n",
       "  153.4625,\n",
       "  135.6333,\n",
       "  77.9583,\n",
       "  78.85,\n",
       "  91.0792,\n",
       "  151.55,\n",
       "  151.55,\n",
       "  110.8833,\n",
       "  108.9,\n",
       "  56.9292,\n",
       "  83.1583,\n",
       "  164.8667,\n",
       "  134.5,\n",
       "  69.55,\n",
       "  135.6333,\n",
       "  57.9792,\n",
       "  153.4625,\n",
       "  133.65,\n",
       "  66.6,\n",
       "  134.5,\n",
       "  55.0,\n",
       "  75.25,\n",
       "  69.3,\n",
       "  55.4417,\n",
       "  135.6333,\n",
       "  82.1708,\n",
       "  52.0,\n",
       "  73.5,\n",
       "  120.0,\n",
       "  113.275,\n",
       "  90.0,\n",
       "  55.9,\n",
       "  120.0,\n",
       "  81.8583,\n",
       "  89.1042,\n",
       "  51.8625,\n",
       "  52.0,\n",
       "  91.0792,\n",
       "  90.0,\n",
       "  49.5042,\n",
       "  78.2667,\n",
       "  151.55,\n",
       "  86.5,\n",
       "  108.9,\n",
       "  56.4958,\n",
       "  59.4,\n",
       "  93.5,\n",
       "  57.9792,\n",
       "  106.425,\n",
       "  49.5,\n",
       "  71.0,\n",
       "  106.425,\n",
       "  110.8833,\n",
       "  79.65,\n",
       "  51.4792,\n",
       "  55.9,\n",
       "  110.8833,\n",
       "  79.65,\n",
       "  79.2,\n",
       "  78.2667,\n",
       "  56.9292,\n",
       "  153.4625,\n",
       "  65.0,\n",
       "  52.5542,\n",
       "  77.9583,\n",
       "  69.3,\n",
       "  56.4958,\n",
       "  76.7292,\n",
       "  73.5,\n",
       "  113.275,\n",
       "  133.65,\n",
       "  73.5,\n",
       "  52.0,\n",
       "  52.0,\n",
       "  76.7292,\n",
       "  57.0,\n",
       "  56.4958,\n",
       "  110.8833,\n",
       "  151.55,\n",
       "  49.5042,\n",
       "  52.0,\n",
       "  53.1,\n",
       "  78.85,\n",
       "  71.0,\n",
       "  53.1,\n",
       "  65.0,\n",
       "  86.5,\n",
       "  120.0,\n",
       "  77.9583,\n",
       "  57.0,\n",
       "  79.2,\n",
       "  69.55,\n",
       "  120.0,\n",
       "  53.1,\n",
       "  93.5,\n",
       "  56.4958,\n",
       "  80.0,\n",
       "  83.1583,\n",
       "  56.4958,\n",
       "  69.55,\n",
       "  89.1042,\n",
       "  164.8667,\n",
       "  69.55,\n",
       "  50.4958,\n",
       "  52.5542,\n",
       "  83.1583],\n",
       " 1: [263.0,\n",
       "  263.0,\n",
       "  247.5208,\n",
       "  512.3292,\n",
       "  247.5208,\n",
       "  262.375,\n",
       "  263.0,\n",
       "  211.5,\n",
       "  227.525,\n",
       "  263.0,\n",
       "  221.7792,\n",
       "  227.525,\n",
       "  512.3292,\n",
       "  211.3375,\n",
       "  227.525,\n",
       "  227.525,\n",
       "  211.3375,\n",
       "  512.3292,\n",
       "  262.375,\n",
       "  211.3375],\n",
       " 2: [7.25,\n",
       "  7.925,\n",
       "  8.05,\n",
       "  8.4583,\n",
       "  21.075,\n",
       "  11.1333,\n",
       "  30.0708,\n",
       "  16.7,\n",
       "  26.55,\n",
       "  8.05,\n",
       "  31.275,\n",
       "  7.8542,\n",
       "  16.0,\n",
       "  29.125,\n",
       "  13.0,\n",
       "  18.0,\n",
       "  7.225,\n",
       "  26.0,\n",
       "  13.0,\n",
       "  8.0292,\n",
       "  35.5,\n",
       "  21.075,\n",
       "  31.3875,\n",
       "  7.225,\n",
       "  7.8792,\n",
       "  7.8958,\n",
       "  27.7208,\n",
       "  7.75,\n",
       "  10.5,\n",
       "  7.2292,\n",
       "  8.05,\n",
       "  18.0,\n",
       "  11.2417,\n",
       "  9.475,\n",
       "  21.0,\n",
       "  7.8958,\n",
       "  41.5792,\n",
       "  7.8792,\n",
       "  8.05,\n",
       "  15.5,\n",
       "  7.75,\n",
       "  21.6792,\n",
       "  17.8,\n",
       "  39.6875,\n",
       "  7.8,\n",
       "  26.0,\n",
       "  35.5,\n",
       "  10.5,\n",
       "  7.2292,\n",
       "  27.75,\n",
       "  46.9,\n",
       "  7.2292,\n",
       "  27.9,\n",
       "  27.7208,\n",
       "  15.2458,\n",
       "  10.5,\n",
       "  8.1583,\n",
       "  7.925,\n",
       "  8.6625,\n",
       "  10.5,\n",
       "  46.9,\n",
       "  14.4542,\n",
       "  7.65,\n",
       "  7.8958,\n",
       "  8.05,\n",
       "  29.0,\n",
       "  12.475,\n",
       "  9.0,\n",
       "  9.5,\n",
       "  7.7875,\n",
       "  47.1,\n",
       "  10.5,\n",
       "  15.85,\n",
       "  34.375,\n",
       "  8.05,\n",
       "  8.05,\n",
       "  8.05,\n",
       "  7.8542,\n",
       "  20.575,\n",
       "  7.25,\n",
       "  8.05,\n",
       "  34.6542,\n",
       "  23.0,\n",
       "  26.0,\n",
       "  7.8958,\n",
       "  7.8958,\n",
       "  8.6542,\n",
       "  7.925,\n",
       "  7.8958,\n",
       "  7.65,\n",
       "  7.775,\n",
       "  7.8958,\n",
       "  24.15,\n",
       "  14.4542,\n",
       "  8.05,\n",
       "  9.825,\n",
       "  14.4583,\n",
       "  7.925,\n",
       "  7.75,\n",
       "  21.0,\n",
       "  31.275,\n",
       "  8.05,\n",
       "  30.0708,\n",
       "  13.0,\n",
       "  11.2417,\n",
       "  7.75,\n",
       "  7.1417,\n",
       "  22.3583,\n",
       "  6.975,\n",
       "  7.8958,\n",
       "  7.05,\n",
       "  14.5,\n",
       "  26.0,\n",
       "  13.0,\n",
       "  15.0458,\n",
       "  26.2833,\n",
       "  9.2167,\n",
       "  15.2458,\n",
       "  7.75,\n",
       "  15.85,\n",
       "  6.75,\n",
       "  11.5,\n",
       "  36.75,\n",
       "  7.7958,\n",
       "  34.375,\n",
       "  26.0,\n",
       "  13.0,\n",
       "  12.525,\n",
       "  8.05,\n",
       "  14.5,\n",
       "  7.3125,\n",
       "  7.7333,\n",
       "  8.05,\n",
       "  8.6625,\n",
       "  16.1,\n",
       "  15.75,\n",
       "  7.775,\n",
       "  8.6625,\n",
       "  39.6875,\n",
       "  20.525,\n",
       "  27.9,\n",
       "  25.925,\n",
       "  33.5,\n",
       "  29.125,\n",
       "  11.1333,\n",
       "  7.925,\n",
       "  30.6958,\n",
       "  7.8542,\n",
       "  25.4667,\n",
       "  28.7125,\n",
       "  13.0,\n",
       "  0.0,\n",
       "  15.05,\n",
       "  31.3875,\n",
       "  39.0,\n",
       "  22.025,\n",
       "  15.5,\n",
       "  26.55,\n",
       "  15.5,\n",
       "  7.8958,\n",
       "  13.0,\n",
       "  13.0,\n",
       "  7.8542,\n",
       "  26.0,\n",
       "  27.7208,\n",
       "  7.75,\n",
       "  8.4042,\n",
       "  7.75,\n",
       "  13.0,\n",
       "  9.5,\n",
       "  6.4958,\n",
       "  7.225,\n",
       "  8.05,\n",
       "  10.4625,\n",
       "  15.85,\n",
       "  18.7875,\n",
       "  7.75,\n",
       "  31.0,\n",
       "  7.05,\n",
       "  21.0,\n",
       "  7.25,\n",
       "  13.0,\n",
       "  7.75,\n",
       "  7.925,\n",
       "  27.0,\n",
       "  10.5,\n",
       "  8.05,\n",
       "  13.0,\n",
       "  8.05,\n",
       "  7.8958,\n",
       "  9.35,\n",
       "  10.5,\n",
       "  7.25,\n",
       "  13.0,\n",
       "  25.4667,\n",
       "  7.775,\n",
       "  13.5,\n",
       "  31.3875,\n",
       "  10.5,\n",
       "  7.55,\n",
       "  26.0,\n",
       "  26.25,\n",
       "  10.5,\n",
       "  12.275,\n",
       "  14.4542,\n",
       "  15.5,\n",
       "  10.5,\n",
       "  7.125,\n",
       "  7.225,\n",
       "  7.775,\n",
       "  14.5,\n",
       "  26.0,\n",
       "  7.25,\n",
       "  10.4625,\n",
       "  26.55,\n",
       "  16.1,\n",
       "  20.2125,\n",
       "  15.2458,\n",
       "  26.0,\n",
       "  7.75,\n",
       "  31.3875,\n",
       "  0.0,\n",
       "  7.75,\n",
       "  10.5,\n",
       "  39.6875,\n",
       "  7.775,\n",
       "  31.0,\n",
       "  0.0,\n",
       "  19.5,\n",
       "  29.7,\n",
       "  7.75,\n",
       "  7.75,\n",
       "  0.0,\n",
       "  29.125,\n",
       "  20.25,\n",
       "  7.75,\n",
       "  7.8542,\n",
       "  9.5,\n",
       "  8.05,\n",
       "  26.0,\n",
       "  8.6625,\n",
       "  9.5,\n",
       "  7.8958,\n",
       "  13.0,\n",
       "  7.75,\n",
       "  12.875,\n",
       "  8.85,\n",
       "  7.8958,\n",
       "  27.7208,\n",
       "  7.2292,\n",
       "  30.5,\n",
       "  7.75,\n",
       "  23.25,\n",
       "  0.0,\n",
       "  12.35,\n",
       "  8.05,\n",
       "  24.0,\n",
       "  26.0,\n",
       "  7.8958,\n",
       "  26.25,\n",
       "  7.8542,\n",
       "  26.0,\n",
       "  14.0,\n",
       "  7.25,\n",
       "  7.8958,\n",
       "  12.35,\n",
       "  29.0,\n",
       "  6.2375,\n",
       "  13.0,\n",
       "  20.525,\n",
       "  23.25,\n",
       "  28.5,\n",
       "  18.0,\n",
       "  7.8958,\n",
       "  8.05,\n",
       "  35.5,\n",
       "  26.0,\n",
       "  13.0,\n",
       "  13.0,\n",
       "  13.0,\n",
       "  13.0,\n",
       "  13.0,\n",
       "  16.1,\n",
       "  15.9,\n",
       "  8.6625,\n",
       "  9.225,\n",
       "  35.0,\n",
       "  7.2292,\n",
       "  17.8,\n",
       "  7.225,\n",
       "  9.5,\n",
       "  13.0,\n",
       "  7.8792,\n",
       "  7.8792,\n",
       "  27.9,\n",
       "  27.7208,\n",
       "  14.4542,\n",
       "  7.05,\n",
       "  15.5,\n",
       "  7.25,\n",
       "  7.2292,\n",
       "  7.75,\n",
       "  6.4958,\n",
       "  8.05,\n",
       "  21.075,\n",
       "  7.25,\n",
       "  4.0125,\n",
       "  7.775,\n",
       "  15.7417,\n",
       "  7.925,\n",
       "  7.8958,\n",
       "  46.9,\n",
       "  13.0,\n",
       "  7.7292,\n",
       "  12.0,\n",
       "  7.7958,\n",
       "  7.925,\n",
       "  16.7,\n",
       "  7.7958,\n",
       "  7.8542,\n",
       "  26.0,\n",
       "  10.5,\n",
       "  12.65,\n",
       "  7.925,\n",
       "  8.05,\n",
       "  9.825,\n",
       "  15.85,\n",
       "  8.6625,\n",
       "  21.0,\n",
       "  7.75,\n",
       "  18.75,\n",
       "  7.775,\n",
       "  25.4667,\n",
       "  7.8958,\n",
       "  6.8583,\n",
       "  0.0,\n",
       "  7.925,\n",
       "  8.05,\n",
       "  32.5,\n",
       "  13.0,\n",
       "  13.0,\n",
       "  24.15,\n",
       "  7.8958,\n",
       "  7.7333,\n",
       "  7.875,\n",
       "  14.4,\n",
       "  20.2125,\n",
       "  7.25,\n",
       "  26.0,\n",
       "  26.0,\n",
       "  7.75,\n",
       "  8.05,\n",
       "  26.55,\n",
       "  16.1,\n",
       "  26.0,\n",
       "  7.125,\n",
       "  34.375,\n",
       "  18.75,\n",
       "  10.5,\n",
       "  26.25,\n",
       "  9.5,\n",
       "  7.775,\n",
       "  13.0,\n",
       "  8.1125,\n",
       "  19.5,\n",
       "  26.55,\n",
       "  19.2583,\n",
       "  30.5,\n",
       "  27.75,\n",
       "  19.9667,\n",
       "  27.75,\n",
       "  8.05,\n",
       "  7.8958,\n",
       "  26.55,\n",
       "  10.5,\n",
       "  7.75,\n",
       "  26.55,\n",
       "  8.05,\n",
       "  38.5,\n",
       "  13.0,\n",
       "  8.05,\n",
       "  7.05,\n",
       "  0.0,\n",
       "  26.55,\n",
       "  7.725,\n",
       "  19.2583,\n",
       "  7.25,\n",
       "  8.6625,\n",
       "  27.75,\n",
       "  13.7917,\n",
       "  9.8375,\n",
       "  21.0,\n",
       "  7.0458,\n",
       "  7.5208,\n",
       "  12.2875,\n",
       "  46.9,\n",
       "  0.0,\n",
       "  8.05,\n",
       "  9.5875,\n",
       "  25.4667,\n",
       "  29.7,\n",
       "  8.05,\n",
       "  15.9,\n",
       "  19.9667,\n",
       "  7.25,\n",
       "  30.5,\n",
       "  8.05,\n",
       "  14.4583,\n",
       "  15.1,\n",
       "  7.7958,\n",
       "  8.6625,\n",
       "  7.75,\n",
       "  7.6292,\n",
       "  9.5875,\n",
       "  26.0,\n",
       "  26.55,\n",
       "  22.525,\n",
       "  7.75,\n",
       "  8.05,\n",
       "  26.2875,\n",
       "  7.4958,\n",
       "  34.0208,\n",
       "  10.5,\n",
       "  24.15,\n",
       "  26.0,\n",
       "  7.8958,\n",
       "  7.8958,\n",
       "  7.225,\n",
       "  7.2292,\n",
       "  7.75,\n",
       "  10.5,\n",
       "  7.925,\n",
       "  11.5,\n",
       "  26.0,\n",
       "  7.2292,\n",
       "  7.2292,\n",
       "  22.3583,\n",
       "  8.6625,\n",
       "  26.25,\n",
       "  26.55,\n",
       "  14.5,\n",
       "  31.275,\n",
       "  31.275,\n",
       "  26.0,\n",
       "  26.0,\n",
       "  26.0,\n",
       "  13.8625,\n",
       "  20.525,\n",
       "  36.75,\n",
       "  26.0,\n",
       "  7.8292,\n",
       "  7.225,\n",
       "  7.775,\n",
       "  26.55,\n",
       "  39.6,\n",
       "  17.4,\n",
       "  7.75,\n",
       "  7.8958,\n",
       "  13.5,\n",
       "  8.05,\n",
       "  8.05,\n",
       "  24.15,\n",
       "  7.8958,\n",
       "  21.075,\n",
       "  7.2292,\n",
       "  7.8542,\n",
       "  10.5,\n",
       "  26.3875,\n",
       "  7.75,\n",
       "  8.05,\n",
       "  14.5,\n",
       "  13.0,\n",
       "  14.4583,\n",
       "  7.925,\n",
       "  30.0,\n",
       "  26.0,\n",
       "  40.125,\n",
       "  8.7125,\n",
       "  15.0,\n",
       "  8.05,\n",
       "  8.05,\n",
       "  7.125,\n",
       "  7.25,\n",
       "  7.75,\n",
       "  26.0,\n",
       "  24.15,\n",
       "  33.0,\n",
       "  0.0,\n",
       "  7.225,\n",
       "  27.0,\n",
       "  7.8958,\n",
       "  42.4,\n",
       "  8.05,\n",
       "  26.55,\n",
       "  15.55,\n",
       "  7.8958,\n",
       "  30.5,\n",
       "  41.5792,\n",
       "  31.275,\n",
       "  7.05,\n",
       "  15.5,\n",
       "  7.75,\n",
       "  8.05,\n",
       "  14.4,\n",
       "  16.1,\n",
       "  39.0,\n",
       "  10.5,\n",
       "  14.4542,\n",
       "  15.7417,\n",
       "  7.8542,\n",
       "  16.1,\n",
       "  32.3208,\n",
       "  12.35,\n",
       "  7.8958,\n",
       "  7.7333,\n",
       "  30.0,\n",
       "  7.0542,\n",
       "  30.5,\n",
       "  0.0,\n",
       "  27.9,\n",
       "  13.0,\n",
       "  7.925,\n",
       "  26.25,\n",
       "  39.6875,\n",
       "  16.1,\n",
       "  7.8542,\n",
       "  27.9,\n",
       "  19.2583,\n",
       "  7.8958,\n",
       "  35.5,\n",
       "  7.55,\n",
       "  7.55,\n",
       "  7.8958,\n",
       "  23.0,\n",
       "  8.4333,\n",
       "  7.8292,\n",
       "  6.75,\n",
       "  7.8958,\n",
       "  15.5,\n",
       "  13.0,\n",
       "  7.225,\n",
       "  25.5875,\n",
       "  7.4958,\n",
       "  7.925,\n",
       "  13.0,\n",
       "  7.775,\n",
       "  8.05,\n",
       "  39.0,\n",
       "  10.5,\n",
       "  13.0,\n",
       "  0.0,\n",
       "  7.775,\n",
       "  8.05,\n",
       "  9.8417,\n",
       "  46.9,\n",
       "  8.1375,\n",
       "  9.225,\n",
       "  46.9,\n",
       "  39.0,\n",
       "  41.5792,\n",
       "  39.6875,\n",
       "  10.1708,\n",
       "  7.7958,\n",
       "  13.4167,\n",
       "  7.225,\n",
       "  26.55,\n",
       "  13.5,\n",
       "  8.05,\n",
       "  7.7333,\n",
       "  7.65,\n",
       "  26.2875,\n",
       "  14.4542,\n",
       "  7.7417,\n",
       "  7.8542,\n",
       "  26.0,\n",
       "  13.5,\n",
       "  26.2875,\n",
       "  15.2458,\n",
       "  26.55,\n",
       "  9.4833,\n",
       "  13.0,\n",
       "  7.65,\n",
       "  10.5,\n",
       "  15.5,\n",
       "  7.775,\n",
       "  33.0,\n",
       "  7.0542,\n",
       "  13.0,\n",
       "  13.0,\n",
       "  8.6625,\n",
       "  21.0,\n",
       "  7.7375,\n",
       "  26.0,\n",
       "  7.925,\n",
       "  18.7875,\n",
       "  0.0,\n",
       "  13.0,\n",
       "  13.0,\n",
       "  16.1,\n",
       "  34.375,\n",
       "  7.8958,\n",
       "  7.8958,\n",
       "  30.0,\n",
       "  16.1,\n",
       "  7.925,\n",
       "  20.25,\n",
       "  13.0,\n",
       "  7.75,\n",
       "  23.0,\n",
       "  12.475,\n",
       "  9.5,\n",
       "  7.8958,\n",
       "  14.5,\n",
       "  7.7958,\n",
       "  11.5,\n",
       "  8.05,\n",
       "  14.5,\n",
       "  7.125,\n",
       "  7.2292,\n",
       "  7.775,\n",
       "  39.6,\n",
       "  7.75,\n",
       "  24.15,\n",
       "  8.3625,\n",
       "  9.5,\n",
       "  7.8542,\n",
       "  10.5,\n",
       "  7.225,\n",
       "  23.0,\n",
       "  7.75,\n",
       "  7.75,\n",
       "  12.475,\n",
       "  7.7375,\n",
       "  7.2292,\n",
       "  30.0,\n",
       "  23.45,\n",
       "  7.05,\n",
       "  7.25,\n",
       "  7.4958,\n",
       "  29.125,\n",
       "  20.575,\n",
       "  7.75,\n",
       "  26.0,\n",
       "  30.6958,\n",
       "  7.8958,\n",
       "  13.0,\n",
       "  25.9292,\n",
       "  8.6833,\n",
       "  7.2292,\n",
       "  24.15,\n",
       "  13.0,\n",
       "  26.25,\n",
       "  8.5167,\n",
       "  6.975,\n",
       "  7.775,\n",
       "  0.0,\n",
       "  7.775,\n",
       "  13.0,\n",
       "  7.8875,\n",
       "  24.15,\n",
       "  10.5,\n",
       "  31.275,\n",
       "  8.05,\n",
       "  0.0,\n",
       "  7.925,\n",
       "  37.0042,\n",
       "  6.45,\n",
       "  27.9,\n",
       "  8.6625,\n",
       "  0.0,\n",
       "  12.475,\n",
       "  39.6875,\n",
       "  6.95,\n",
       "  37.0042,\n",
       "  7.75,\n",
       "  14.4542,\n",
       "  18.75,\n",
       "  7.2292,\n",
       "  7.8542,\n",
       "  8.3,\n",
       "  8.6625,\n",
       "  8.05,\n",
       "  29.7,\n",
       "  7.925,\n",
       "  10.5,\n",
       "  31.0,\n",
       "  6.4375,\n",
       "  8.6625,\n",
       "  7.55,\n",
       "  7.8958,\n",
       "  33.0,\n",
       "  31.275,\n",
       "  7.775,\n",
       "  15.2458,\n",
       "  39.4,\n",
       "  26.0,\n",
       "  9.35,\n",
       "  26.55,\n",
       "  19.2583,\n",
       "  7.2292,\n",
       "  14.1083,\n",
       "  11.5,\n",
       "  25.9292,\n",
       "  13.0,\n",
       "  13.0,\n",
       "  13.8583,\n",
       "  9.5,\n",
       "  11.1333,\n",
       "  7.8958,\n",
       "  5.0,\n",
       "  9.0,\n",
       "  24.0,\n",
       "  7.225,\n",
       "  9.8458,\n",
       "  7.8958,\n",
       "  7.8958,\n",
       "  26.0,\n",
       "  7.8958,\n",
       "  10.5167,\n",
       "  10.5,\n",
       "  7.05,\n",
       "  29.125,\n",
       "  13.0,\n",
       "  30.0,\n",
       "  23.45,\n",
       "  30.0,\n",
       "  7.75]}"
      ]
     },
     "execution_count": 195,
     "metadata": {},
     "output_type": "execute_result"
    }
   ],
   "source": [
    "clust "
   ]
  },
  {
   "cell_type": "code",
   "execution_count": 111,
   "metadata": {},
   "outputs": [],
   "source": [
    "##CONTINUAR ACA CON K-MEANS (implementar)"
   ]
  },
  {
   "cell_type": "code",
   "execution_count": null,
   "metadata": {},
   "outputs": [],
   "source": []
  }
 ],
 "metadata": {
  "kernelspec": {
   "display_name": "Python 3",
   "language": "python",
   "name": "python3"
  },
  "language_info": {
   "codemirror_mode": {
    "name": "ipython",
    "version": 3
   },
   "file_extension": ".py",
   "mimetype": "text/x-python",
   "name": "python",
   "nbconvert_exporter": "python",
   "pygments_lexer": "ipython3",
   "version": "3.7.4"
  },
  "toc": {
   "base_numbering": 1,
   "nav_menu": {},
   "number_sections": true,
   "sideBar": true,
   "skip_h1_title": false,
   "title_cell": "Table of Contents",
   "title_sidebar": "Contents",
   "toc_cell": false,
   "toc_position": {},
   "toc_section_display": true,
   "toc_window_display": false
  }
 },
 "nbformat": 4,
 "nbformat_minor": 2
}
